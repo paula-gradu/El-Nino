{
 "cells": [
  {
   "cell_type": "code",
   "execution_count": 16,
   "metadata": {},
   "outputs": [],
   "source": [
    "import glob\n",
    "import matplotlib.pyplot as plt\n",
    "import numpy as np\n",
    "import pandas\n",
    "import xarray\n",
    "import cftime\n",
    "import tensorflow as tf"
   ]
  },
  {
   "cell_type": "markdown",
   "metadata": {},
   "source": [
    "# Data Import"
   ]
  },
  {
   "cell_type": "code",
   "execution_count": 17,
   "metadata": {},
   "outputs": [],
   "source": [
    "datapath = 'nino34_monthly.nc'\n",
    "nino34 = xarray.open_dataset(datapath, decode_times = False)\n",
    "nino34 = np.array(nino34['nino34'].values)"
   ]
  },
  {
   "cell_type": "code",
   "execution_count": 18,
   "metadata": {},
   "outputs": [],
   "source": [
    "def ONI(nino34, m = 3):\n",
    "    oni = np.array(nino34)\n",
    "    length = nino34.shape[0]\n",
    "    for i in range(length):\n",
    "        oni[i] = np.mean(nino34[max(0, (i - m + 1)) : min((i + 1), length)])\n",
    "    return oni"
   ]
  },
  {
   "cell_type": "code",
   "execution_count": 19,
   "metadata": {},
   "outputs": [],
   "source": [
    "oni = ONI(nino34)"
   ]
  },
  {
   "cell_type": "code",
   "execution_count": 20,
   "metadata": {},
   "outputs": [],
   "source": [
    "def climatology(nino34):\n",
    "    clm = np.zeros(12)\n",
    "    length = nino34.shape[0]\n",
    "    for month in range(12):\n",
    "        section = [12 * i + month for i in range(length // 12)]\n",
    "        clm[month] = np.mean(nino34[section])\n",
    "    return clm"
   ]
  },
  {
   "cell_type": "code",
   "execution_count": 21,
   "metadata": {},
   "outputs": [],
   "source": [
    "clm = climatology(nino34)"
   ]
  },
  {
   "cell_type": "code",
   "execution_count": 22,
   "metadata": {},
   "outputs": [],
   "source": [
    "def SST_anomaly(nino34, clm):\n",
    "    anm = np.array(nino34)\n",
    "    length = nino34.shape[0]\n",
    "    for i in range(length):\n",
    "        anm[i] = nino34[i] - clm[i % 12]\n",
    "    return anm"
   ]
  },
  {
   "cell_type": "code",
   "execution_count": 23,
   "metadata": {},
   "outputs": [],
   "source": [
    "anm = SST_anomaly(nino34, clm)\n",
    "oanm = ONI(anm)"
   ]
  },
  {
   "cell_type": "markdown",
   "metadata": {},
   "source": [
    "# Data Preparation"
   ]
  },
  {
   "cell_type": "code",
   "execution_count": 48,
   "metadata": {},
   "outputs": [],
   "source": [
    "T = 6                       # prediction timeline\n",
    "threshold = 0.5         \n",
    "signal = np.array(nino34[12 * 50:])   # data used for training/testing\n",
    "length = signal.shape[0]    # number of data points"
   ]
  },
  {
   "cell_type": "code",
   "execution_count": 49,
   "metadata": {},
   "outputs": [],
   "source": [
    "# label El Nino as 2, El Nina as 0 and no event as 1\n",
    "labels = np.ndarray((length))\n",
    "for i in range(length):\n",
    "    if(oanm[i] >= threshold):\n",
    "        labels[i] = 2\n",
    "    elif(oanm[i] <= -threshold):\n",
    "        labels[i] = 0\n",
    "    else:\n",
    "        labels[i] = 1\n",
    "\n",
    "persistance_labels = 3 * np.ones((length))\n",
    "for i in range(length - T):\n",
    "    persistance_labels[i + T] = labels[i]"
   ]
  },
  {
   "cell_type": "code",
   "execution_count": 50,
   "metadata": {},
   "outputs": [],
   "source": [
    "acc = np.sum(persistance_labels == labels) / (length - T)"
   ]
  },
  {
   "cell_type": "code",
   "execution_count": 51,
   "metadata": {},
   "outputs": [
    {
     "name": "stdout",
     "output_type": "stream",
     "text": [
      "0.5118154017236586\n"
     ]
    }
   ],
   "source": [
    "print(acc)"
   ]
  },
  {
   "cell_type": "markdown",
   "metadata": {},
   "source": [
    "# Varying T"
   ]
  },
  {
   "cell_type": "code",
   "execution_count": 63,
   "metadata": {},
   "outputs": [],
   "source": [
    "max_t = 49"
   ]
  },
  {
   "cell_type": "code",
   "execution_count": 64,
   "metadata": {},
   "outputs": [],
   "source": [
    "acc = np.zeros(max_t)"
   ]
  },
  {
   "cell_type": "code",
   "execution_count": 65,
   "metadata": {},
   "outputs": [
    {
     "name": "stdout",
     "output_type": "stream",
     "text": [
      "Persistance benchmark for T = 0 : 1.0\n",
      "Persistance benchmark for T = 1 : 0.878455341019586\n",
      "Persistance benchmark for T = 2 : 0.7718810780772437\n",
      "Persistance benchmark for T = 3 : 0.6825065999722106\n",
      "Persistance benchmark for T = 4 : 0.6093663146192329\n",
      "Persistance benchmark for T = 5 : 0.5549687282835303\n",
      "Persistance benchmark for T = 6 : 0.5118154017236586\n",
      "Persistance benchmark for T = 7 : 0.4751842068677881\n",
      "Persistance benchmark for T = 8 : 0.44911012235817577\n",
      "Persistance benchmark for T = 9 : 0.4309553608677514\n",
      "Persistance benchmark for T = 10 : 0.413769123783032\n",
      "Persistance benchmark for T = 11 : 0.40422868270969536\n",
      "Persistance benchmark for T = 12 : 0.3949638286032276\n",
      "Persistance benchmark for T = 13 : 0.38527897592876026\n",
      "Persistance benchmark for T = 14 : 0.3750347898691901\n",
      "Persistance benchmark for T = 15 : 0.3642310368823939\n",
      "Persistance benchmark for T = 16 : 0.35384187082405344\n",
      "Persistance benchmark for T = 17 : 0.34679103438674647\n",
      "Persistance benchmark for T = 18 : 0.3412698412698413\n",
      "Persistance benchmark for T = 19 : 0.3386714942208606\n",
      "Persistance benchmark for T = 20 : 0.3398328690807799\n",
      "Persistance benchmark for T = 21 : 0.33932302549101545\n",
      "Persistance benchmark for T = 22 : 0.3403455001393146\n",
      "Persistance benchmark for T = 23 : 0.34554827922530307\n",
      "Persistance benchmark for T = 24 : 0.34935897435897434\n",
      "Persistance benchmark for T = 25 : 0.3523344947735192\n",
      "Persistance benchmark for T = 26 : 0.3558684137161974\n",
      "Persistance benchmark for T = 27 : 0.3553603791997769\n",
      "Persistance benchmark for T = 28 : 0.3522030117122142\n",
      "Persistance benchmark for T = 29 : 0.3511365221029145\n",
      "Persistance benchmark for T = 30 : 0.35244072524407255\n",
      "Persistance benchmark for T = 31 : 0.35904589203515136\n",
      "Persistance benchmark for T = 32 : 0.36844308035714285\n",
      "Persistance benchmark for T = 33 : 0.3785405329984652\n",
      "Persistance benchmark for T = 34 : 0.38598939436226626\n",
      "Persistance benchmark for T = 35 : 0.3909281228192603\n",
      "Persistance benchmark for T = 36 : 0.3905639307649358\n",
      "Persistance benchmark for T = 37 : 0.38601144771743684\n",
      "Persistance benchmark for T = 38 : 0.38271432560737223\n",
      "Persistance benchmark for T = 39 : 0.37746124842899037\n",
      "Persistance benchmark for T = 40 : 0.37011173184357543\n",
      "Persistance benchmark for T = 41 : 0.36331889928761\n",
      "Persistance benchmark for T = 42 : 0.362671137189159\n",
      "Persistance benchmark for T = 43 : 0.3614643006846444\n",
      "Persistance benchmark for T = 44 : 0.36486864169927335\n",
      "Persistance benchmark for T = 45 : 0.3681341719077568\n",
      "Persistance benchmark for T = 46 : 0.3755940732457366\n",
      "Persistance benchmark for T = 47 : 0.38235705298476164\n",
      "Persistance benchmark for T = 48 : 0.3825503355704698\n"
     ]
    }
   ],
   "source": [
    "for t in np.arange(max_t):\n",
    "    labels = np.ndarray((length))\n",
    "    for i in range(length):\n",
    "        if(oanm[i] >= threshold):\n",
    "            labels[i] = 2\n",
    "        elif(oanm[i] <= -threshold):\n",
    "            labels[i] = 0\n",
    "        else:\n",
    "            labels[i] = 1\n",
    "\n",
    "    persistance_labels = 3 * np.ones((length))\n",
    "    for i in range(length - t):\n",
    "        persistance_labels[i + t] = labels[i]\n",
    "    \n",
    "    acc[t] = np.sum(persistance_labels == labels) / (length - t)\n",
    "    print(\"Persistance benchmark for T =\", t, \":\", acc[t])"
   ]
  }
 ],
 "metadata": {
  "kernelspec": {
   "display_name": "Python 3",
   "language": "python",
   "name": "python3"
  },
  "language_info": {
   "codemirror_mode": {
    "name": "ipython",
    "version": 3
   },
   "file_extension": ".py",
   "mimetype": "text/x-python",
   "name": "python",
   "nbconvert_exporter": "python",
   "pygments_lexer": "ipython3",
   "version": "3.6.5"
  }
 },
 "nbformat": 4,
 "nbformat_minor": 2
}
