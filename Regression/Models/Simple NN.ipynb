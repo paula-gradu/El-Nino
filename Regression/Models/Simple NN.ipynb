{
 "cells": [
  {
   "cell_type": "code",
   "execution_count": 1,
   "metadata": {},
   "outputs": [],
   "source": [
    "import matplotlib.pyplot as plt\n",
    "import numpy as np\n",
    "import xarray\n",
    "import tensorflow as tf\n",
    "import tensorflow.keras.backend as K\n",
    "import enso"
   ]
  },
  {
   "cell_type": "code",
   "execution_count": 2,
   "metadata": {},
   "outputs": [],
   "source": [
    "def reset_weights(model):\n",
    "    session = K.get_session()\n",
    "    for layer in model.layers: \n",
    "        if hasattr(layer, 'kernel_initializer'):\n",
    "            layer.kernel.initializer.run(session=session)\n",
    "            layer.bias.initializer.run(session=session)"
   ]
  },
  {
   "cell_type": "code",
   "execution_count": 3,
   "metadata": {},
   "outputs": [],
   "source": [
    "np.random.seed(0)"
   ]
  },
  {
   "cell_type": "markdown",
   "metadata": {},
   "source": [
    "## Extracting SST, ONI and Anomaly"
   ]
  },
  {
   "cell_type": "code",
   "execution_count": 4,
   "metadata": {},
   "outputs": [],
   "source": [
    "signals = ['pna', 'ea', 'wa', 'wp', 'eu', 'soi', 'esoi', 'nino12', 'nino34', 'nino4']\n",
    "signal_length = 6000\n",
    "n_signals = 11\n",
    "\n",
    "datapath = '~/CM4_ctrl_indices.nc'\n",
    "\n",
    "all_signals_nc = xarray.open_dataset(datapath, decode_times = False)\n",
    "all_signals = np.zeros((signal_length, 1))\n",
    "\n",
    "for signal in signals:\n",
    "    new_signal = (all_signals_nc[signal].values).reshape((signal_length, 1))\n",
    "    all_signals = np.append(all_signals, new_signal, axis = 1)\n",
    "    \n",
    "nino34 = all_signals_nc['nino34'].values\n",
    "clm = enso.climatology(nino34)\n",
    "anm = enso.anomaly(nino34, clm)\n",
    "oni = enso.ONI(anm)\n",
    "time = np.arange(anm.shape[0])"
   ]
  },
  {
   "cell_type": "markdown",
   "metadata": {},
   "source": [
    "## Converting Time Series to Train/Validation/Test Datasets and Labels"
   ]
  },
  {
   "cell_type": "markdown",
   "metadata": {},
   "source": [
    "We first decide how far into the future we aim to predict (T months into the future), how much history we use to do so (H months of past values information Hmax into the past), and number of extra features (means of previous months)."
   ]
  },
  {
   "cell_type": "code",
   "execution_count": 5,
   "metadata": {},
   "outputs": [],
   "source": [
    "T = 12\n",
    "H = 48"
   ]
  },
  {
   "cell_type": "markdown",
   "metadata": {},
   "source": [
    "# One Signal"
   ]
  },
  {
   "cell_type": "markdown",
   "metadata": {},
   "source": [
    "We then decide which time series to use for training (input_signal) and which time series to predict (output_signal):"
   ]
  },
  {
   "cell_type": "code",
   "execution_count": 6,
   "metadata": {},
   "outputs": [],
   "source": [
    "input_signal = np.array(oni).copy()\n",
    "input_signal = np.reshape(input_signal, (signal_length, 1))\n",
    "\n",
    "output_signal = np.array(oni).copy()"
   ]
  },
  {
   "cell_type": "markdown",
   "metadata": {},
   "source": [
    "We then normalize the input and output signals for more reliable performance:"
   ]
  },
  {
   "cell_type": "code",
   "execution_count": 7,
   "metadata": {},
   "outputs": [],
   "source": [
    "input_signal = enso.normalize(input_signal)\n",
    "output_signal = enso.normalize(output_signal)"
   ]
  },
  {
   "cell_type": "markdown",
   "metadata": {},
   "source": [
    "Now we can create: (1) the feature matrix, i.e. the data to be used to predict the future time series value, and (2) the desired label vector."
   ]
  },
  {
   "cell_type": "code",
   "execution_count": 8,
   "metadata": {},
   "outputs": [],
   "source": [
    "data = enso.ts2history(input_signal, T, H)\n",
    "data = data.reshape((data.shape[0], data.shape[1] * data.shape[2]))\n",
    "\n",
    "labels = enso.ts2diff(output_signal, T, H)\n",
    "to_add = enso.ts2remainder(output_signal, T, H)\n",
    "reconstructed = labels + to_add\n",
    "time2D = enso.time2time2D(time, T, H)"
   ]
  },
  {
   "cell_type": "markdown",
   "metadata": {},
   "source": [
    "We will use the first 80% of the time series as training data, the following 10% as validation and the last 10% for testing:"
   ]
  },
  {
   "cell_type": "code",
   "execution_count": 9,
   "metadata": {},
   "outputs": [],
   "source": [
    "(test_start, test_end) = (6, 7)\n",
    "(val_start, val_end) = (4, 5)\n",
    "\n",
    "(train, test) = enso.split(data, test_start, test_end)\n",
    "(train_labels, test_labels) = enso.split(labels, test_start, test_end)\n",
    "(train_to_add, test_to_add) = enso.split(to_add, test_start, test_end)\n",
    "(train_reconstructed, test_reconstructed) = enso.split(reconstructed, test_start, test_end)\n",
    "(train_time2D, test_time2D) = enso.split(time2D, test_start, test_end)\n",
    "\n",
    "(train, val) = enso.split(train, val_start, val_end)\n",
    "(train_labels, val_labels) = enso.split(train_labels, val_start, val_end)\n",
    "(train_to_add, val_to_add) = enso.split(train_to_add, val_start, val_end)\n",
    "(train_reconstructed, val_reconstructed) = enso.split(train_reconstructed, val_start, val_end)\n",
    "(train_time2D, val_time2D) = enso.split(train_time2D, val_start, val_end)"
   ]
  },
  {
   "cell_type": "markdown",
   "metadata": {},
   "source": [
    "(Optional) Shuffle Training Data"
   ]
  },
  {
   "cell_type": "code",
   "execution_count": 10,
   "metadata": {},
   "outputs": [],
   "source": [
    "shuffle = np.random.permutation(train.shape[0])\n",
    "train = train[shuffle]\n",
    "train_labels = train_labels[shuffle]\n",
    "train_to_add = train_to_add[shuffle]\n",
    "train_reconstructed = train_reconstructed[shuffle]"
   ]
  },
  {
   "cell_type": "markdown",
   "metadata": {},
   "source": [
    "## Learning Optimal Weights for all t simulatously:"
   ]
  },
  {
   "cell_type": "code",
   "execution_count": 11,
   "metadata": {},
   "outputs": [],
   "source": [
    "epochs = 300\n",
    "(N1, N2, N3) = (512, 512, 512)\n",
    "d = 0.05"
   ]
  },
  {
   "cell_type": "code",
   "execution_count": 12,
   "metadata": {},
   "outputs": [
    {
     "name": "stdout",
     "output_type": "stream",
     "text": [
      "WARNING:tensorflow:From /home/pgradu/.conda/envs/ml/lib/python3.7/site-packages/tensorflow/python/ops/resource_variable_ops.py:435: colocate_with (from tensorflow.python.framework.ops) is deprecated and will be removed in a future version.\n",
      "Instructions for updating:\n",
      "Colocations handled automatically by placer.\n",
      "WARNING:tensorflow:From /home/pgradu/.conda/envs/ml/lib/python3.7/site-packages/tensorflow/python/keras/layers/core.py:143: calling dropout (from tensorflow.python.ops.nn_ops) with keep_prob is deprecated and will be removed in a future version.\n",
      "Instructions for updating:\n",
      "Please use `rate` instead of `keep_prob`. Rate should be set to `rate = 1 - keep_prob`.\n",
      "WARNING:tensorflow:From /home/pgradu/.conda/envs/ml/lib/python3.7/site-packages/tensorflow/python/keras/utils/losses_utils.py:170: to_float (from tensorflow.python.ops.math_ops) is deprecated and will be removed in a future version.\n",
      "Instructions for updating:\n",
      "Use tf.cast instead.\n",
      "WARNING:tensorflow:From /home/pgradu/.conda/envs/ml/lib/python3.7/site-packages/tensorflow/python/ops/math_ops.py:3066: to_int32 (from tensorflow.python.ops.math_ops) is deprecated and will be removed in a future version.\n",
      "Instructions for updating:\n",
      "Use tf.cast instead.\n"
     ]
    }
   ],
   "source": [
    "cumulative_model = tf.keras.models.Sequential([\n",
    "                  tf.keras.layers.Dense(N1,  kernel_initializer='normal', activation = tf.nn.relu),\n",
    "                  tf.keras.layers.Dropout(d),\n",
    "                  tf.keras.layers.Dense(N2,  kernel_initializer='normal', activation = tf.nn.relu),\n",
    "                  tf.keras.layers.Dropout(d),\n",
    "                  tf.keras.layers.Dense(N3,  kernel_initializer='normal', activation = tf.nn.relu),\n",
    "                  tf.keras.layers.Dropout(d),\n",
    "                  tf.keras.layers.Dense(T,  kernel_initializer='normal', activation = 'linear')\n",
    "            ])\n",
    "\n",
    "cumulative_model.compile(optimizer='adam', loss='mse', metrics=['mse', 'mae'])\n",
    "cumulative_model.fit(train, train_labels, epochs = epochs, verbose = 0)\n",
    "            \n",
    "cumulative_val_pred = cumulative_model.predict(val)\n",
    "cumulative_val_pred_reconstructed = cumulative_val_pred + val_to_add\n",
    "mult_val_pred_rmse_1signal = enso.rmse(val_reconstructed, cumulative_val_pred_reconstructed)                \n",
    "mult_val_pred_corr_1signal = enso.correlation(val_reconstructed, cumulative_val_pred_reconstructed)"
   ]
  },
  {
   "cell_type": "code",
   "execution_count": 13,
   "metadata": {},
   "outputs": [
    {
     "data": {
      "image/png": "[encoded data removed]",
      "text/plain": [
       "<Figure size 432x288 with 2 Axes>"
      ]
     },
     "metadata": {
      "needs_background": "light"
     },
     "output_type": "display_data"
    }
   ],
   "source": [
    "enso.plot_monthly_correlation(cumulative_val_pred_reconstructed, val_reconstructed, T);"
   ]
  },
  {
   "cell_type": "code",
   "execution_count": 14,
   "metadata": {},
   "outputs": [
    {
     "data": {
      "image/png": "[encoded data removed]",
      "text/plain": [
       "<Figure size 432x288 with 2 Axes>"
      ]
     },
     "metadata": {
      "needs_background": "light"
     },
     "output_type": "display_data"
    }
   ],
   "source": [
    "enso.plot_monthly_rmse(cumulative_val_pred_reconstructed, val_reconstructed, T);"
   ]
  },
  {
   "cell_type": "markdown",
   "metadata": {},
   "source": [
    "## Learning Optimal Weights Separately:"
   ]
  },
  {
   "cell_type": "code",
   "execution_count": 15,
   "metadata": {},
   "outputs": [],
   "source": [
    "individual_model = tf.keras.models.Sequential([\n",
    "                  tf.keras.layers.Dense(N1,  kernel_initializer='normal', activation = tf.nn.relu),\n",
    "                  tf.keras.layers.Dropout(d),\n",
    "                  tf.keras.layers.Dense(N2,  kernel_initializer='normal', activation = tf.nn.relu),\n",
    "                  tf.keras.layers.Dropout(d),\n",
    "                  tf.keras.layers.Dense(N3,  kernel_initializer='normal', activation = tf.nn.relu),\n",
    "                  tf.keras.layers.Dropout(d),\n",
    "                  tf.keras.layers.Dense(1,  kernel_initializer='normal', activation = 'linear')\n",
    "            ])"
   ]
  },
  {
   "cell_type": "code",
   "execution_count": 16,
   "metadata": {},
   "outputs": [],
   "source": [
    "val_pred_rmse_1signal = np.zeros(T)\n",
    "val_pred_corr_1signal = np.zeros(T)\n",
    "individual_val_pred = {}\n",
    "individual_val_pred_reconstructed = {}"
   ]
  },
  {
   "cell_type": "code",
   "execution_count": 17,
   "metadata": {},
   "outputs": [],
   "source": [
    "for t in range(T):\n",
    "\n",
    "    individual_model.compile(optimizer='adam', loss='mse', metrics=['mse', 'mae'])\n",
    "    individual_model.fit(train, train_labels[:, t], epochs = epochs, verbose = 0)\n",
    "    \n",
    "    individual_val_pred[t] = individual_model.predict(val).flatten() # save individual predictions for t\n",
    "    individual_val_pred_reconstructed[t] = individual_val_pred[t] + val_to_add[:, t]\n",
    "\n",
    "    val_pred_rmse_1signal[t] = enso.rmse(val_reconstructed[:, t], individual_val_pred_reconstructed[t])\n",
    "    val_pred_corr_1signal[t] = enso.correlation(val_reconstructed[:, t], individual_val_pred_reconstructed[t])\n",
    "        \n",
    "    reset_weights(individual_model)"
   ]
  },
  {
   "cell_type": "markdown",
   "metadata": {},
   "source": [
    "# Multiple Signals"
   ]
  },
  {
   "cell_type": "code",
   "execution_count": 18,
   "metadata": {},
   "outputs": [],
   "source": [
    "input_signals = np.array(all_signals).copy()\n",
    "input_signals = enso.normalize(input_signals)\n",
    "\n",
    "data = enso.ts2history(input_signals, T, H)\n",
    "data = data.reshape((data.shape[0], data.shape[1] * data.shape[2]))\n",
    "\n",
    "(test_start, test_end) = (6, 7)\n",
    "(val_start, val_end) = (4, 5)\n",
    "\n",
    "(train, test) = enso.split(data, test_start, test_end)\n",
    "(train, val) = enso.split(train, val_start, val_end)\n",
    "\n",
    "train = train[shuffle]"
   ]
  },
  {
   "cell_type": "markdown",
   "metadata": {},
   "source": [
    "## Learning Optimal Weights for all t simulatously:"
   ]
  },
  {
   "cell_type": "code",
   "execution_count": 19,
   "metadata": {},
   "outputs": [],
   "source": [
    "cumulative_model = tf.keras.models.Sequential([\n",
    "                  tf.keras.layers.Dense(N1,  kernel_initializer='normal', activation = tf.nn.relu),\n",
    "                  tf.keras.layers.Dropout(d),\n",
    "                  tf.keras.layers.Dense(N2,  kernel_initializer='normal', activation = tf.nn.relu),\n",
    "                  tf.keras.layers.Dropout(d),\n",
    "                  tf.keras.layers.Dense(N3,  kernel_initializer='normal', activation = tf.nn.relu),\n",
    "                  tf.keras.layers.Dropout(d),\n",
    "                  tf.keras.layers.Dense(T,  kernel_initializer='normal', activation = 'linear')\n",
    "            ])\n",
    "\n",
    "cumulative_model.compile(optimizer='adam', loss='mse', metrics=['mse', 'mae'])\n",
    "cumulative_model.fit(train, train_labels, epochs = epochs, verbose = 0)\n",
    "            \n",
    "cumulative_val_pred = cumulative_model.predict(val)\n",
    "cumulative_val_pred_reconstructed = cumulative_val_pred + val_to_add\n",
    "mult_val_pred_rmse = enso.rmse(val_reconstructed, cumulative_val_pred_reconstructed)                \n",
    "mult_val_pred_corr = enso.correlation(val_reconstructed, cumulative_val_pred_reconstructed)"
   ]
  },
  {
   "cell_type": "code",
   "execution_count": 20,
   "metadata": {},
   "outputs": [
    {
     "data": {
      "image/png": "[encoded data removed]",
      "text/plain": [
       "<Figure size 432x288 with 2 Axes>"
      ]
     },
     "metadata": {
      "needs_background": "light"
     },
     "output_type": "display_data"
    }
   ],
   "source": [
    "enso.plot_monthly_correlation(cumulative_val_pred_reconstructed, val_reconstructed, T);"
   ]
  },
  {
   "cell_type": "code",
   "execution_count": 21,
   "metadata": {},
   "outputs": [
    {
     "data": {
      "image/png": "[encoded data removed]",
      "text/plain": [
       "<Figure size 432x288 with 2 Axes>"
      ]
     },
     "metadata": {
      "needs_background": "light"
     },
     "output_type": "display_data"
    }
   ],
   "source": [
    "enso.plot_monthly_rmse(cumulative_val_pred_reconstructed, val_reconstructed, T);"
   ]
  },
  {
   "cell_type": "markdown",
   "metadata": {},
   "source": [
    "## Learning Optimal Weights Separately:"
   ]
  },
  {
   "cell_type": "code",
   "execution_count": 22,
   "metadata": {},
   "outputs": [],
   "source": [
    "individual_model = tf.keras.models.Sequential([\n",
    "                  tf.keras.layers.Dense(N1,  kernel_initializer='normal', activation = tf.nn.relu),\n",
    "                  tf.keras.layers.Dropout(d),\n",
    "                  tf.keras.layers.Dense(N2,  kernel_initializer='normal', activation = tf.nn.relu),\n",
    "                  tf.keras.layers.Dropout(d),\n",
    "                  tf.keras.layers.Dense(N3,  kernel_initializer='normal', activation = tf.nn.relu),\n",
    "                  tf.keras.layers.Dropout(d),\n",
    "                  tf.keras.layers.Dense(1,  kernel_initializer='normal', activation = 'linear')\n",
    "            ])"
   ]
  },
  {
   "cell_type": "code",
   "execution_count": 23,
   "metadata": {},
   "outputs": [],
   "source": [
    "val_pred_rmse = np.zeros(T)\n",
    "val_pred_corr = np.zeros(T)\n",
    "individual_val_pred = {}\n",
    "individual_val_pred_reconstructed = {}"
   ]
  },
  {
   "cell_type": "code",
   "execution_count": 24,
   "metadata": {},
   "outputs": [],
   "source": [
    "for t in range(T):\n",
    "\n",
    "    individual_model.compile(optimizer='adam', loss='mse', metrics=['mse', 'mae'])\n",
    "    individual_model.fit(train, train_labels[:, t], epochs = epochs, verbose = 0)\n",
    "    \n",
    "    individual_val_pred[t] = individual_model.predict(val).flatten() # save individual predictions for t\n",
    "    individual_val_pred_reconstructed[t] = individual_val_pred[t] + val_to_add[:, t]\n",
    "\n",
    "    val_pred_rmse[t] = enso.rmse(val_reconstructed[:, t], individual_val_pred_reconstructed[t])\n",
    "    val_pred_corr[t] = enso.correlation(val_reconstructed[:, t], individual_val_pred_reconstructed[t])\n",
    "        \n",
    "    reset_weights(individual_model)"
   ]
  },
  {
   "cell_type": "markdown",
   "metadata": {},
   "source": [
    "# Results"
   ]
  },
  {
   "cell_type": "code",
   "execution_count": 25,
   "metadata": {},
   "outputs": [],
   "source": [
    "(persistance_corr, persistance_rmse) = enso.persistance_corr_rmse(oni, T)"
   ]
  },
  {
   "cell_type": "code",
   "execution_count": 26,
   "metadata": {},
   "outputs": [
    {
     "data": {
      "image/png": "[encoded data removed]",
      "text/plain": [
       "<Figure size 432x288 with 1 Axes>"
      ]
     },
     "metadata": {
      "needs_background": "light"
     },
     "output_type": "display_data"
    },
    {
     "data": {
      "image/png": "[encoded data removed]",
      "text/plain": [
       "<Figure size 432x288 with 1 Axes>"
      ]
     },
     "metadata": {
      "needs_background": "light"
     },
     "output_type": "display_data"
    }
   ],
   "source": [
    "plt.plot(persistance_corr, label = \"Persistance\");\n",
    "plt.plot(mult_val_pred_corr, label = \"Cumulative\");\n",
    "plt.plot(val_pred_corr, 'C1--', label = \"Individual\");\n",
    "plt.plot(mult_val_pred_corr_1signal, label = \"Cumulative (1 signal)\");\n",
    "plt.plot(val_pred_corr_1signal, 'C2--', label = \"Individual (1 signal)\");\n",
    "plt.ylabel('Correlation');\n",
    "plt.xlabel('timeline');\n",
    "plt.legend();\n",
    "plt.figure();\n",
    "\n",
    "\n",
    "plt.plot(persistance_rmse, label = \"Persistance\");\n",
    "plt.plot(mult_val_pred_rmse, label = \"Cumulative\");\n",
    "plt.plot(val_pred_rmse, 'C1--', label = \"Individual\");\n",
    "plt.plot(mult_val_pred_rmse_1signal, label = \"Cumulative (1 signal)\");\n",
    "plt.plot(val_pred_rmse_1signal, 'C2--', label = \"Individual (1 signal)\");\n",
    "plt.ylabel('MSE');\n",
    "plt.xlabel('timeline');\n",
    "plt.legend();"
   ]
  }
 ],
 "metadata": {
  "kernelspec": {
   "display_name": "Python 3",
   "language": "python",
   "name": "python3"
  },
  "language_info": {
   "codemirror_mode": {
    "name": "ipython",
    "version": 3
   },
   "file_extension": ".py",
   "mimetype": "text/x-python",
   "name": "python",
   "nbconvert_exporter": "python",
   "pygments_lexer": "ipython3",
   "version": "3.7.3"
  }
 },
 "nbformat": 4,
 "nbformat_minor": 2
}
