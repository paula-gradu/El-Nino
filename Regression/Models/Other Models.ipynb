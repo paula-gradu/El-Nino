{
 "cells": [
  {
   "cell_type": "code",
   "execution_count": null,
   "metadata": {},
   "outputs": [],
   "source": [
    "import matplotlib.pyplot as plt\n",
    "import numpy as np\n",
    "import xarray\n",
    "import tensorflow as tf\n",
    "import tensorflow.keras.backend as K\n",
    "import enso"
   ]
  },
  {
   "cell_type": "code",
   "execution_count": 2,
   "metadata": {},
   "outputs": [],
   "source": [
    "np.random.seed(0)"
   ]
  },
  {
   "cell_type": "markdown",
   "metadata": {},
   "source": [
    "## Extracting SST, ONI and Anomaly"
   ]
  },
  {
   "cell_type": "code",
   "execution_count": 3,
   "metadata": {},
   "outputs": [],
   "source": [
    "signals = ['pna', 'ea', 'wa', 'wp', 'eu', 'soi', 'esoi', 'nino12', 'nino34', 'nino4']\n",
    "signal_length = 6000\n",
    "n_signals = 11\n",
    "\n",
    "datapath = 'CM4_ctrl_indices.nc'\n",
    "\n",
    "all_signals_nc = xarray.open_dataset(datapath, decode_times = False)\n",
    "all_signals = np.zeros((signal_length, 1))\n",
    "\n",
    "for signal in signals:\n",
    "    new_signal = (all_signals_nc[signal].values).reshape((signal_length, 1))\n",
    "    all_signals = np.append(all_signals, new_signal, axis = 1)\n",
    "    \n",
    "nino34 = all_signals_nc['nino34'].values\n",
    "clm = enso.climatology(nino34)\n",
    "anm = enso.anomaly(nino34, clm)\n",
    "oni = enso.ONI(anm)\n",
    "time = np.arange(anm.shape[0])"
   ]
  },
  {
   "cell_type": "markdown",
   "metadata": {},
   "source": [
    "## Converting Time Series to Train/Validation/Test Datasets and Labels"
   ]
  },
  {
   "cell_type": "markdown",
   "metadata": {},
   "source": [
    "We first decide how far into the future we aim to predict (T months into the future), how much history we use to do so (H months of past values information Hmax into the past), and number of extra features (means of previous months)."
   ]
  },
  {
   "cell_type": "code",
   "execution_count": 4,
   "metadata": {},
   "outputs": [],
   "source": [
    "T = 12\n",
    "H = 48"
   ]
  },
  {
   "cell_type": "markdown",
   "metadata": {},
   "source": [
    "# One Signal"
   ]
  },
  {
   "cell_type": "markdown",
   "metadata": {},
   "source": [
    "We then decide which time series to use for training (input_signal) and which time series to predict (output_signal):"
   ]
  },
  {
   "cell_type": "code",
   "execution_count": 5,
   "metadata": {},
   "outputs": [],
   "source": [
    "input_signal = np.array(oni).copy()\n",
    "input_signal = np.reshape(input_signal, (signal_length, 1))\n",
    "\n",
    "output_signal = np.array(oni).copy()"
   ]
  },
  {
   "cell_type": "markdown",
   "metadata": {},
   "source": [
    "We then normalize the input and output signals for more reliable performance:"
   ]
  },
  {
   "cell_type": "code",
   "execution_count": 6,
   "metadata": {},
   "outputs": [],
   "source": [
    "input_signal = enso.normalize(input_signal)\n",
    "output_signal = enso.normalize(output_signal)"
   ]
  },
  {
   "cell_type": "markdown",
   "metadata": {},
   "source": [
    "Now we can create: (1) the feature matrix, i.e. the data to be used to predict the future time series value, and (2) the desired label vector."
   ]
  },
  {
   "cell_type": "code",
   "execution_count": 7,
   "metadata": {},
   "outputs": [],
   "source": [
    "data = enso.ts2history(input_signal, T, H)\n",
    "data = data.reshape((data.shape[0], data.shape[1] * data.shape[2]))\n",
    "\n",
    "labels = enso.ts2diff(output_signal, T, H)\n",
    "to_add = enso.ts2remainder(output_signal, T, H)\n",
    "reconstructed = labels + to_add\n",
    "time2D = enso.time2time2D(time, T, H)"
   ]
  },
  {
   "cell_type": "markdown",
   "metadata": {},
   "source": [
    "We will use the first 80% of the time series as training data, the following 10% as validation and the last 10% for testing:"
   ]
  },
  {
   "cell_type": "code",
   "execution_count": 8,
   "metadata": {},
   "outputs": [],
   "source": [
    "(test_start, test_end) = (6, 7)\n",
    "(val_start, val_end) = (4, 5)\n",
    "\n",
    "(train, test) = enso.split(data, test_start, test_end)\n",
    "(train_labels, test_labels) = enso.split(labels, test_start, test_end)\n",
    "(train_to_add, test_to_add) = enso.split(to_add, test_start, test_end)\n",
    "(train_reconstructed, test_reconstructed) = enso.split(reconstructed, test_start, test_end)\n",
    "(train_time2D, test_time2D) = enso.split(time2D, test_start, test_end)\n",
    "\n",
    "(train, val) = enso.split(train, val_start, val_end)\n",
    "(train_labels, val_labels) = enso.split(train_labels, val_start, val_end)\n",
    "(train_to_add, val_to_add) = enso.split(train_to_add, val_start, val_end)\n",
    "(train_reconstructed, val_reconstructed) = enso.split(train_reconstructed, val_start, val_end)\n",
    "(train_time2D, val_time2D) = enso.split(train_time2D, val_start, val_end)"
   ]
  },
  {
   "cell_type": "markdown",
   "metadata": {},
   "source": [
    "(Optional) Shuffle Training Data"
   ]
  },
  {
   "cell_type": "code",
   "execution_count": 9,
   "metadata": {},
   "outputs": [],
   "source": [
    "shuffle = np.random.permutation(train.shape[0])\n",
    "train = train[shuffle]\n",
    "train_labels = train_labels[shuffle]\n",
    "train_to_add = train_to_add[shuffle]\n",
    "train_reconstructed = train_reconstructed[shuffle]"
   ]
  },
  {
   "cell_type": "markdown",
   "metadata": {},
   "source": [
    "# Linear Regression"
   ]
  },
  {
   "cell_type": "code",
   "execution_count": 10,
   "metadata": {},
   "outputs": [],
   "source": [
    "from sklearn.linear_model import LinearRegression"
   ]
  },
  {
   "cell_type": "markdown",
   "metadata": {},
   "source": [
    "## Learning Optimal Weights for all t simulatously:"
   ]
  },
  {
   "cell_type": "code",
   "execution_count": 11,
   "metadata": {},
   "outputs": [],
   "source": [
    "cumulative_model = LinearRegression().fit(train, train_labels)\n",
    "cumulative_val_pred = cumulative_model.predict(val)\n",
    "cumulative_val_pred_reconstructed = cumulative_val_pred + val_to_add\n",
    "LR_mult_val_pred_rmse_1signal = enso.rmse(val_reconstructed, cumulative_val_pred_reconstructed)                \n",
    "LR_mult_val_pred_corr_1signal = enso.correlation(val_reconstructed, cumulative_val_pred_reconstructed)"
   ]
  },
  {
   "cell_type": "markdown",
   "metadata": {},
   "source": [
    "## Learning Optimal Weights for separate t values:"
   ]
  },
  {
   "cell_type": "code",
   "execution_count": 12,
   "metadata": {},
   "outputs": [],
   "source": [
    "LR_val_pred_rmse_1signal = np.zeros(T)\n",
    "LR_val_pred_corr_1signal = np.zeros(T)\n",
    "individual_val_pred = {}\n",
    "individual_val_pred_reconstructed = {}"
   ]
  },
  {
   "cell_type": "code",
   "execution_count": 13,
   "metadata": {},
   "outputs": [],
   "source": [
    "for t in range(T):\n",
    "    \n",
    "    individual_model = LinearRegression().fit(train, train_labels[:, t])\n",
    "    \n",
    "    individual_val_pred[t] = individual_model.predict(val).flatten() \n",
    "    individual_val_pred_reconstructed[t] = individual_val_pred[t] + val_to_add[:, t]\n",
    "\n",
    "    LR_val_pred_rmse_1signal[t] = enso.rmse(val_reconstructed[:, t], individual_val_pred_reconstructed[t])\n",
    "    LR_val_pred_corr_1signal[t] = enso.correlation(val_reconstructed[:, t], individual_val_pred_reconstructed[t])"
   ]
  },
  {
   "cell_type": "markdown",
   "metadata": {},
   "source": [
    "# Support Vector Regressors with RBF kernel"
   ]
  },
  {
   "cell_type": "code",
   "execution_count": 14,
   "metadata": {},
   "outputs": [],
   "source": [
    "from sklearn.svm import SVR"
   ]
  },
  {
   "cell_type": "markdown",
   "metadata": {},
   "source": [
    "## Learning Optimal Weights for separetely for all t:"
   ]
  },
  {
   "cell_type": "code",
   "execution_count": 15,
   "metadata": {},
   "outputs": [],
   "source": [
    "SVRrbf_val_pred_rmse_1signal = np.zeros(T)\n",
    "SVRrbf_val_pred_corr_1signal = np.zeros(T)\n",
    "individual_val_pred = {}\n",
    "individual_val_pred_reconstructed = {}"
   ]
  },
  {
   "cell_type": "code",
   "execution_count": 16,
   "metadata": {},
   "outputs": [],
   "source": [
    "for t in range(T):\n",
    "    \n",
    "    individual_model = SVR(kernel='rbf', C=100, gamma=0.1, epsilon=.1).fit(train, train_labels[:, t])\n",
    "    \n",
    "    individual_val_pred[t] = individual_model.predict(val).flatten() \n",
    "    individual_val_pred_reconstructed[t] = individual_val_pred[t] + val_to_add[:, t]\n",
    "\n",
    "    SVRrbf_val_pred_rmse_1signal[t] = enso.rmse(val_reconstructed[:, t], individual_val_pred_reconstructed[t])\n",
    "    SVRrbf_val_pred_corr_1signal[t] = enso.correlation(val_reconstructed[:, t], individual_val_pred_reconstructed[t])"
   ]
  },
  {
   "cell_type": "markdown",
   "metadata": {},
   "source": [
    "# Decision Trees and Forests"
   ]
  },
  {
   "cell_type": "code",
   "execution_count": 17,
   "metadata": {},
   "outputs": [],
   "source": [
    "from sklearn.tree import DecisionTreeRegressor\n",
    "from sklearn.ensemble import RandomForestRegressor\n",
    "from sklearn.ensemble import ExtraTreesRegressor"
   ]
  },
  {
   "cell_type": "markdown",
   "metadata": {},
   "source": [
    "## Learning Optimal Weights for all t simulatously:"
   ]
  },
  {
   "cell_type": "markdown",
   "metadata": {},
   "source": [
    "### Decision Tree"
   ]
  },
  {
   "cell_type": "code",
   "execution_count": 18,
   "metadata": {},
   "outputs": [],
   "source": [
    "cumulative_model = DecisionTreeRegressor(max_depth = 5, random_state = 0).fit(train, train_labels)\n",
    "cumulative_val_pred = cumulative_model.predict(val)\n",
    "cumulative_val_pred_reconstructed = cumulative_val_pred + val_to_add\n",
    "DT_mult_val_pred_rmse_1signal = enso.rmse(val_reconstructed, cumulative_val_pred_reconstructed)                \n",
    "DT_mult_val_pred_corr_1signal = enso.correlation(val_reconstructed, cumulative_val_pred_reconstructed)"
   ]
  },
  {
   "cell_type": "markdown",
   "metadata": {},
   "source": [
    "### Random Forest"
   ]
  },
  {
   "cell_type": "code",
   "execution_count": 19,
   "metadata": {},
   "outputs": [],
   "source": [
    "cumulative_model = RandomForestRegressor(max_depth = 5, random_state = 0, n_estimators = 100).fit(train, train_labels)\n",
    "cumulative_val_pred = cumulative_model.predict(val)\n",
    "cumulative_val_pred_reconstructed = cumulative_val_pred + val_to_add\n",
    "RF_mult_val_pred_rmse_1signal = enso.rmse(val_reconstructed, cumulative_val_pred_reconstructed)                \n",
    "RF_mult_val_pred_corr_1signal = enso.correlation(val_reconstructed, cumulative_val_pred_reconstructed)"
   ]
  },
  {
   "cell_type": "markdown",
   "metadata": {},
   "source": [
    "### Extra Trees"
   ]
  },
  {
   "cell_type": "code",
   "execution_count": 20,
   "metadata": {},
   "outputs": [],
   "source": [
    "cumulative_model = ExtraTreesRegressor(max_depth = 5, random_state = 0, n_estimators = 100).fit(train, train_labels)\n",
    "cumulative_val_pred = cumulative_model.predict(val)\n",
    "cumulative_val_pred_reconstructed = cumulative_val_pred + val_to_add\n",
    "ET_mult_val_pred_rmse_1signal = enso.rmse(val_reconstructed, cumulative_val_pred_reconstructed)                \n",
    "ET_mult_val_pred_corr_1signal = enso.correlation(val_reconstructed, cumulative_val_pred_reconstructed)"
   ]
  },
  {
   "cell_type": "markdown",
   "metadata": {},
   "source": [
    "## Learning Optimal Weights for all t separately:"
   ]
  },
  {
   "cell_type": "markdown",
   "metadata": {},
   "source": [
    "### Decision Tree"
   ]
  },
  {
   "cell_type": "code",
   "execution_count": 21,
   "metadata": {},
   "outputs": [],
   "source": [
    "DT_val_pred_rmse_1signal = np.zeros(T)\n",
    "DT_val_pred_corr_1signal = np.zeros(T)\n",
    "individual_val_pred = {}\n",
    "individual_val_pred_reconstructed = {}"
   ]
  },
  {
   "cell_type": "code",
   "execution_count": 22,
   "metadata": {},
   "outputs": [],
   "source": [
    "for t in range(T):\n",
    "    \n",
    "    individual_model = DecisionTreeRegressor(max_depth = 5, random_state = 0).fit(train, train_labels[:, t])\n",
    "    \n",
    "    individual_val_pred[t] = individual_model.predict(val).flatten() \n",
    "    individual_val_pred_reconstructed[t] = individual_val_pred[t] + val_to_add[:, t]\n",
    "\n",
    "    DT_val_pred_rmse_1signal[t] = enso.rmse(val_reconstructed[:, t], individual_val_pred_reconstructed[t])\n",
    "    DT_val_pred_corr_1signal[t] = enso.correlation(val_reconstructed[:, t], individual_val_pred_reconstructed[t])"
   ]
  },
  {
   "cell_type": "markdown",
   "metadata": {},
   "source": [
    "### Random Forest"
   ]
  },
  {
   "cell_type": "code",
   "execution_count": 23,
   "metadata": {},
   "outputs": [],
   "source": [
    "RF_val_pred_rmse_1signal = np.zeros(T)\n",
    "RF_val_pred_corr_1signal = np.zeros(T)\n",
    "individual_val_pred = {}\n",
    "individual_val_pred_reconstructed = {}"
   ]
  },
  {
   "cell_type": "code",
   "execution_count": 24,
   "metadata": {},
   "outputs": [],
   "source": [
    "for t in range(T):\n",
    "    \n",
    "    individual_model = RandomForestRegressor(max_depth = 5, random_state = 0, n_estimators = 100).fit(train, train_labels[:, t])\n",
    "    \n",
    "    individual_val_pred[t] = individual_model.predict(val).flatten() \n",
    "    individual_val_pred_reconstructed[t] = individual_val_pred[t] + val_to_add[:, t]\n",
    "\n",
    "    RF_val_pred_rmse_1signal[t] = enso.rmse(val_reconstructed[:, t], individual_val_pred_reconstructed[t])\n",
    "    RF_val_pred_corr_1signal[t] = enso.correlation(val_reconstructed[:, t], individual_val_pred_reconstructed[t])"
   ]
  },
  {
   "cell_type": "markdown",
   "metadata": {},
   "source": [
    "### Extra Trees"
   ]
  },
  {
   "cell_type": "code",
   "execution_count": 25,
   "metadata": {},
   "outputs": [],
   "source": [
    "ET_val_pred_rmse_1signal = np.zeros(T)\n",
    "ET_val_pred_corr_1signal = np.zeros(T)\n",
    "individual_val_pred = {}\n",
    "individual_val_pred_reconstructed = {}"
   ]
  },
  {
   "cell_type": "code",
   "execution_count": 26,
   "metadata": {},
   "outputs": [],
   "source": [
    "for t in range(T):\n",
    "    \n",
    "    individual_model = ExtraTreesRegressor(max_depth = 5, random_state = 0, n_estimators = 100).fit(train, train_labels[:, t])\n",
    "    \n",
    "    individual_val_pred[t] = individual_model.predict(val).flatten() \n",
    "    individual_val_pred_reconstructed[t] = individual_val_pred[t] + val_to_add[:, t]\n",
    "\n",
    "    ET_val_pred_rmse_1signal[t] = enso.rmse(val_reconstructed[:, t], individual_val_pred_reconstructed[t])\n",
    "    ET_val_pred_corr_1signal[t] = enso.correlation(val_reconstructed[:, t], individual_val_pred_reconstructed[t])"
   ]
  },
  {
   "cell_type": "markdown",
   "metadata": {},
   "source": [
    "# All Signals"
   ]
  },
  {
   "cell_type": "code",
   "execution_count": 27,
   "metadata": {},
   "outputs": [],
   "source": [
    "input_signals = np.array(all_signals).copy()\n",
    "input_signals = enso.normalize(input_signals)\n",
    "\n",
    "data = enso.ts2history(input_signals, T, H)\n",
    "data = data.reshape((data.shape[0], data.shape[1] * data.shape[2]))\n",
    "\n",
    "(test_start, test_end) = (6, 7)\n",
    "(val_start, val_end) = (4, 5)\n",
    "\n",
    "(train, test) = enso.split(data, test_start, test_end)\n",
    "(train, val) = enso.split(train, val_start, val_end)\n",
    "\n",
    "train = train[shuffle]"
   ]
  },
  {
   "cell_type": "markdown",
   "metadata": {},
   "source": [
    "### Linear Regression: Cumulative"
   ]
  },
  {
   "cell_type": "code",
   "execution_count": 28,
   "metadata": {},
   "outputs": [],
   "source": [
    "cumulative_model = LinearRegression().fit(train, train_labels)\n",
    "cumulative_val_pred = cumulative_model.predict(val)\n",
    "cumulative_val_pred_reconstructed = cumulative_val_pred + val_to_add\n",
    "LR_mult_val_pred_rmse = enso.rmse(val_reconstructed, cumulative_val_pred_reconstructed)                \n",
    "LR_mult_val_pred_corr = enso.correlation(val_reconstructed, cumulative_val_pred_reconstructed)"
   ]
  },
  {
   "cell_type": "markdown",
   "metadata": {},
   "source": [
    "### Linear Regression: Individual"
   ]
  },
  {
   "cell_type": "code",
   "execution_count": 29,
   "metadata": {},
   "outputs": [],
   "source": [
    "LR_val_pred_rmse = np.zeros(T)\n",
    "LR_val_pred_corr = np.zeros(T)\n",
    "individual_val_pred = {}\n",
    "individual_val_pred_reconstructed = {}\n",
    "\n",
    "for t in range(T):\n",
    "    \n",
    "    individual_model = LinearRegression().fit(train, train_labels[:, t])\n",
    "    \n",
    "    individual_val_pred[t] = individual_model.predict(val).flatten() \n",
    "    individual_val_pred_reconstructed[t] = individual_val_pred[t] + val_to_add[:, t]\n",
    "\n",
    "    LR_val_pred_rmse[t] = enso.rmse(val_reconstructed[:, t], individual_val_pred_reconstructed[t])\n",
    "    LR_val_pred_corr[t] = enso.correlation(val_reconstructed[:, t], individual_val_pred_reconstructed[t])"
   ]
  },
  {
   "cell_type": "markdown",
   "metadata": {},
   "source": [
    "### SVR with RBF kernel: Individual"
   ]
  },
  {
   "cell_type": "code",
   "execution_count": 30,
   "metadata": {},
   "outputs": [],
   "source": [
    "SVRrbf_val_pred_rmse = np.zeros(T)\n",
    "SVRrbf_val_pred_corr = np.zeros(T)\n",
    "individual_val_pred = {}\n",
    "individual_val_pred_reconstructed = {}\n",
    "\n",
    "for t in range(T):\n",
    "    \n",
    "    individual_model = SVR(kernel='rbf', C=100, gamma=0.1, epsilon=.1).fit(train, train_labels[:, t])\n",
    "    \n",
    "    individual_val_pred[t] = individual_model.predict(val).flatten() \n",
    "    individual_val_pred_reconstructed[t] = individual_val_pred[t] + val_to_add[:, t]\n",
    "\n",
    "    SVRrbf_val_pred_rmse[t] = enso.rmse(val_reconstructed[:, t], individual_val_pred_reconstructed[t])\n",
    "    SVRrbf_val_pred_corr[t] = enso.correlation(val_reconstructed[:, t], individual_val_pred_reconstructed[t])"
   ]
  },
  {
   "cell_type": "markdown",
   "metadata": {},
   "source": [
    "### Decision Tree: Cumulative"
   ]
  },
  {
   "cell_type": "code",
   "execution_count": 31,
   "metadata": {},
   "outputs": [],
   "source": [
    "cumulative_model = DecisionTreeRegressor(max_depth = 5, random_state = 0).fit(train, train_labels)\n",
    "cumulative_val_pred = cumulative_model.predict(val)\n",
    "cumulative_val_pred_reconstructed = cumulative_val_pred + val_to_add\n",
    "DT_mult_val_pred_rmse = enso.rmse(val_reconstructed, cumulative_val_pred_reconstructed)                \n",
    "DT_mult_val_pred_corr = enso.correlation(val_reconstructed, cumulative_val_pred_reconstructed)"
   ]
  },
  {
   "cell_type": "markdown",
   "metadata": {},
   "source": [
    "### Decision Tree: Individual"
   ]
  },
  {
   "cell_type": "code",
   "execution_count": 32,
   "metadata": {},
   "outputs": [],
   "source": [
    "DT_val_pred_rmse = np.zeros(T)\n",
    "DT_val_pred_corr = np.zeros(T)\n",
    "individual_val_pred = {}\n",
    "individual_val_pred_reconstructed = {}\n",
    "\n",
    "for t in range(T):\n",
    "    \n",
    "    individual_model = DecisionTreeRegressor(max_depth = 5, random_state = 0).fit(train, train_labels[:, t])\n",
    "    \n",
    "    individual_val_pred[t] = individual_model.predict(val).flatten() \n",
    "    individual_val_pred_reconstructed[t] = individual_val_pred[t] + val_to_add[:, t]\n",
    "\n",
    "    DT_val_pred_rmse[t] = enso.rmse(val_reconstructed[:, t], individual_val_pred_reconstructed[t])\n",
    "    DT_val_pred_corr[t] = enso.correlation(val_reconstructed[:, t], individual_val_pred_reconstructed[t])"
   ]
  },
  {
   "cell_type": "markdown",
   "metadata": {},
   "source": [
    "### Random Forest: Cumulative"
   ]
  },
  {
   "cell_type": "code",
   "execution_count": 33,
   "metadata": {},
   "outputs": [],
   "source": [
    "cumulative_model = RandomForestRegressor(max_depth = 5, random_state = 0, n_estimators = 100).fit(train, train_labels)\n",
    "cumulative_val_pred = cumulative_model.predict(val)\n",
    "cumulative_val_pred_reconstructed = cumulative_val_pred + val_to_add\n",
    "RF_mult_val_pred_rmse = enso.rmse(val_reconstructed, cumulative_val_pred_reconstructed)                \n",
    "RF_mult_val_pred_corr = enso.correlation(val_reconstructed, cumulative_val_pred_reconstructed)"
   ]
  },
  {
   "cell_type": "markdown",
   "metadata": {},
   "source": [
    "### Random Forest: Individual"
   ]
  },
  {
   "cell_type": "code",
   "execution_count": null,
   "metadata": {},
   "outputs": [],
   "source": [
    "RF_val_pred_rmse = np.zeros(T)\n",
    "RF_val_pred_corr = np.zeros(T)\n",
    "individual_val_pred = {}\n",
    "individual_val_pred_reconstructed = {}\n",
    "\n",
    "for t in range(T):\n",
    "    \n",
    "    individual_model = RandomForestRegressor(max_depth = 5, random_state = 0, n_estimators = 100).fit(train, train_labels[:, t])\n",
    "    \n",
    "    individual_val_pred[t] = individual_model.predict(val).flatten() \n",
    "    individual_val_pred_reconstructed[t] = individual_val_pred[t] + val_to_add[:, t]\n",
    "\n",
    "    RF_val_pred_rmse[t] = enso.rmse(val_reconstructed[:, t], individual_val_pred_reconstructed[t])\n",
    "    RF_val_pred_corr[t] = enso.correlation(val_reconstructed[:, t], individual_val_pred_reconstructed[t])"
   ]
  },
  {
   "cell_type": "markdown",
   "metadata": {},
   "source": [
    "### Extra Trees: Cumulative"
   ]
  },
  {
   "cell_type": "code",
   "execution_count": 48,
   "metadata": {},
   "outputs": [],
   "source": [
    "cumulative_model = ExtraTreesRegressor(max_depth = 5, random_state = 0, n_estimators = 100).fit(train, train_labels)\n",
    "cumulative_val_pred = cumulative_model.predict(val)\n",
    "cumulative_val_pred_reconstructed = cumulative_val_pred + val_to_add\n",
    "ET_mult_val_pred_rmse = enso.rmse(val_reconstructed, cumulative_val_pred_reconstructed)                \n",
    "ET_mult_val_pred_corr = enso.correlation(val_reconstructed, cumulative_val_pred_reconstructed)"
   ]
  },
  {
   "cell_type": "markdown",
   "metadata": {},
   "source": [
    "### Extra Trees: Individual"
   ]
  },
  {
   "cell_type": "code",
   "execution_count": null,
   "metadata": {},
   "outputs": [],
   "source": [
    "ET_val_pred_rmse = np.zeros(T)\n",
    "ET_val_pred_corr = np.zeros(T)\n",
    "individual_val_pred = {}\n",
    "individual_val_pred_reconstructed = {}\n",
    "\n",
    "for t in range(T):\n",
    "    \n",
    "    individual_model = ExtraTreesRegressor(max_depth = 5, random_state = 0, n_estimators = 100).fit(train, train_labels[:, t])\n",
    "    \n",
    "    individual_val_pred[t] = individual_model.predict(val).flatten() \n",
    "    individual_val_pred_reconstructed[t] = individual_val_pred[t] + val_to_add[:, t]\n",
    "\n",
    "    ET_val_pred_rmse[t] = enso.rmse(val_reconstructed[:, t], individual_val_pred_reconstructed[t])\n",
    "    ET_val_pred_corr[t] = enso.correlation(val_reconstructed[:, t], individual_val_pred_reconstructed[t])"
   ]
  },
  {
   "cell_type": "markdown",
   "metadata": {},
   "source": [
    "# RESULTS"
   ]
  },
  {
   "cell_type": "code",
   "execution_count": 35,
   "metadata": {},
   "outputs": [],
   "source": [
    "(persistance_corr, persistance_rmse) = enso.persistance_corr_rmse(oni, T)"
   ]
  },
  {
   "cell_type": "code",
   "execution_count": 50,
   "metadata": {},
   "outputs": [
    {
     "data": {
      "image/png": "[encoded data removed]",
      "text/plain": [
       "<Figure size 432x288 with 1 Axes>"
      ]
     },
     "metadata": {},
     "output_type": "display_data"
    },
    {
     "data": {
      "text/plain": [
       "<Figure size 432x288 with 0 Axes>"
      ]
     },
     "metadata": {},
     "output_type": "display_data"
    }
   ],
   "source": [
    "plt.plot(persistance_corr, label = \"Persistance\");\n",
    "\n",
    "plt.plot(LR_mult_val_pred_corr, label = \"Linear Regression: Cumulative\");\n",
    "plt.plot(LR_val_pred_corr, 'C1x', label = \"Linear Regression: Individual\");\n",
    "plt.plot(LR_mult_val_pred_corr_1signal, 'C1--', label = \"Linear Regression: Cumulative (1 signal)\");\n",
    "plt.plot(LR_val_pred_corr_1signal, 'C1.', label = \"Linear Regression: Individual (1 signal)\");\n",
    "\n",
    "plt.plot(SVRrbf_val_pred_corr, 'C2x', label = \"SVR: Individual\");\n",
    "plt.plot(SVRrbf_val_pred_corr_1signal, 'C2.', label = \"SVR: Individual (1 signal)\");\n",
    "\n",
    "plt.plot(DT_mult_val_pred_corr, label = \"Decision Tree: Cumulative\");\n",
    "plt.plot(DT_val_pred_corr, 'C3x', label = \"Decision Tree: Individual\");\n",
    "plt.plot(DT_mult_val_pred_corr_1signal, 'C3--', label = \"Decision Tree: Cumulative (1 signal)\");\n",
    "plt.plot(DT_val_pred_corr_1signal, 'C3.', label = \"Decision Tree: Individual (1 signal)\");\n",
    "\n",
    "plt.plot(RF_mult_val_pred_corr, label = \"Random Forest: Cumulative\");\n",
    "#plt.plot(RF_val_pred_corr, 'C4x', label = \"Random Forest: Individual\");\n",
    "plt.plot(RF_mult_val_pred_corr_1signal, 'C4--', label = \"Random Forest: Cumulative (1 signal)\");\n",
    "plt.plot(RF_val_pred_corr_1signal, 'C3.', label = \"Decision Tree: Individual (1 signal)\");\n",
    "\n",
    "plt.plot(ET_mult_val_pred_corr, label = \"Extra Trees: Cumulative\");\n",
    "#plt.plot(ET_val_pred_corr, 'C4x', label = \"Random Forest: Individual\");\n",
    "plt.plot(ET_mult_val_pred_corr_1signal, 'C5--', label = \"Extra Trees: Cumulative (1 signal)\");\n",
    "plt.plot(ET_val_pred_corr_1signal, 'C3.', label = \"Decision Tree: Individual (1 signal)\");\n",
    "\n",
    "plt.ylabel('Correlation');\n",
    "plt.xlabel('timeline');\n",
    "#plt.legend();\n",
    "plt.figure();\n",
    "\n",
    "#plt.plot(persistance_rmse, label = \"Persistance\");\n",
    "#plt.ylabel('RMSE');\n",
    "#plt.xlabel('timeline');\n",
    "#plt.legend();"
   ]
  }
 ],
 "metadata": {
  "kernelspec": {
   "display_name": "Python 3",
   "language": "python",
   "name": "python3"
  },
  "language_info": {
   "codemirror_mode": {
    "name": "ipython",
    "version": 3
   },
   "file_extension": ".py",
   "mimetype": "text/x-python",
   "name": "python",
   "nbconvert_exporter": "python",
   "pygments_lexer": "ipython3",
   "version": "3.6.5"
  }
 },
 "nbformat": 4,
 "nbformat_minor": 2
}
