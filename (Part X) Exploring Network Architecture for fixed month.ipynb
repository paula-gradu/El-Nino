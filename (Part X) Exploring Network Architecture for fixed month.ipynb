{
 "cells": [
  {
   "cell_type": "code",
   "execution_count": 1,
   "metadata": {},
   "outputs": [
    {
     "name": "stderr",
     "output_type": "stream",
     "text": [
      "/Users/paulag/anaconda3/lib/python3.6/site-packages/h5py/__init__.py:36: FutureWarning: Conversion of the second argument of issubdtype from `float` to `np.floating` is deprecated. In future, it will be treated as `np.float64 == np.dtype(float).type`.\n",
      "  from ._conv import register_converters as _register_converters\n"
     ]
    }
   ],
   "source": [
    "import glob\n",
    "import matplotlib.pyplot as plt\n",
    "import numpy as np\n",
    "import pandas\n",
    "import xarray\n",
    "import cftime\n",
    "import tensorflow as tf"
   ]
  },
  {
   "cell_type": "code",
   "execution_count": 2,
   "metadata": {},
   "outputs": [
    {
     "name": "stdout",
     "output_type": "stream",
     "text": [
      "<xarray.Dataset>\n",
      "Dimensions:         (bounds: 2, month: 12, time: 7800)\n",
      "Coordinates:\n",
      "  * time            (time) float64 15.5 45.0 74.5 ... 2.372e+05 2.372e+05\n",
      "Dimensions without coordinates: bounds, month\n",
      "Data variables:\n",
      "    nino34          (time) float64 ...\n",
      "    time_bnds       (time, bounds) float64 ...\n",
      "    areacello       float32 ...\n",
      "    days_per_month  (month) int32 ...\n"
     ]
    }
   ],
   "source": [
    "datapath = 'nino34_monthly.nc'\n",
    "nino34 = xarray.open_dataset(datapath, decode_times = False)\n",
    "print(nino34)\n",
    "nino34 = np.array(nino34['nino34'].values)"
   ]
  },
  {
   "cell_type": "code",
   "execution_count": 3,
   "metadata": {},
   "outputs": [],
   "source": [
    "def ONI(nino34, m = 3):\n",
    "    oni = np.array(nino34)\n",
    "    length = nino34.shape[0]\n",
    "    for i in range(length):\n",
    "        oni[i] = np.mean(nino34[max(0, (i - m + 1)) : min((i + 1), length)])\n",
    "    return oni"
   ]
  },
  {
   "cell_type": "code",
   "execution_count": 4,
   "metadata": {},
   "outputs": [],
   "source": [
    "oni = ONI(nino34)"
   ]
  },
  {
   "cell_type": "code",
   "execution_count": 5,
   "metadata": {},
   "outputs": [],
   "source": [
    "def climatology(nino34):\n",
    "    clm = np.zeros(12)\n",
    "    length = nino34.shape[0]\n",
    "    for month in range(12):\n",
    "        section = [12 * i + month for i in range(length // 12)]\n",
    "        clm[month] = np.mean(nino34[section])\n",
    "    return clm"
   ]
  },
  {
   "cell_type": "code",
   "execution_count": 6,
   "metadata": {},
   "outputs": [],
   "source": [
    "clm = climatology(nino34)"
   ]
  },
  {
   "cell_type": "code",
   "execution_count": 7,
   "metadata": {},
   "outputs": [],
   "source": [
    "def SST_anomaly(nino34, clm):\n",
    "    anm = np.array(nino34)\n",
    "    length = nino34.shape[0]\n",
    "    for i in range(length):\n",
    "        anm[i] = nino34[i] - clm[i % 12]\n",
    "    return anm"
   ]
  },
  {
   "cell_type": "code",
   "execution_count": 8,
   "metadata": {},
   "outputs": [],
   "source": [
    "anm = SST_anomaly(nino34, clm)\n",
    "oanm = ONI(anm)"
   ]
  },
  {
   "cell_type": "markdown",
   "metadata": {},
   "source": [
    "# Data Preparation"
   ]
  },
  {
   "cell_type": "code",
   "execution_count": 9,
   "metadata": {},
   "outputs": [],
   "source": [
    "T = 6                       # prediction timeline\n",
    "H = 48                      # history used for prediction\n",
    "include_month = 0           # 1 if we use the month as a feature, 0 otherwise\n",
    "n_classes = 3               # number of classes (El Nino, El Nina, No Event)\n",
    "threshold = 0.5         \n",
    "signal = np.array(nino34)   # data used for training/testing\n",
    "length = signal.shape[0]    # number of data points\n",
    "size = length - H - T       # effective dataset size"
   ]
  },
  {
   "cell_type": "code",
   "execution_count": 10,
   "metadata": {},
   "outputs": [],
   "source": [
    "# create the 'history matrix'\n",
    "data = np.ndarray((size, H + include_month))\n",
    "for i in range(size):\n",
    "    if(include_month == False):\n",
    "        data[i] = signal[i:(i + H)]\n",
    "    else:\n",
    "        data[i] = np.append(signal[i:(i + H)], (i + H + T) % 12)\n",
    "\n",
    "# label El Nino as 2, El Nina as 0 and no event as 1\n",
    "labels = np.ndarray((size))\n",
    "for i in range(length - H - T):\n",
    "    if(oanm[i + H + T] >= threshold):\n",
    "        labels[i] = 2\n",
    "    elif(oanm[i + H + T] <= -threshold):\n",
    "        labels[i] = 0\n",
    "    else:\n",
    "        labels[i] = 1"
   ]
  },
  {
   "cell_type": "markdown",
   "metadata": {},
   "source": [
    "We split the data into 80% training, 10% validation and 10% testing."
   ]
  },
  {
   "cell_type": "code",
   "execution_count": 11,
   "metadata": {},
   "outputs": [],
   "source": [
    "# predicting february\n",
    "\n",
    "np.random.seed(0)\n",
    "\n",
    "size2 = size // 12\n",
    "    \n",
    "split = size2 // 10      \n",
    "shuffle = 12 * np.random.permutation(size2) + np.ones(size2, dtype = int)\n",
    "    \n",
    "train_ind = np.array(shuffle[0: 8 * split])\n",
    "val_ind = np.array(shuffle[8 * split: 9 * split])\n",
    "test_ind = np.array(shuffle[9 * split: size2])\n",
    "\n",
    "train = np.array(data[train_ind])\n",
    "train_labels = np.array(labels[train_ind])\n",
    "\n",
    "val = np.array(data[val_ind])\n",
    "val_labels = np.array(labels[val_ind])\n",
    "\n",
    "test = np.array(data[test_ind])\n",
    "test_labels = np.array(labels[test_ind])\n",
    "    \n",
    "mean = np.mean(train, axis = 0)\n",
    "std = np.std(train, axis = 0)\n",
    "\n",
    "train_n = np.divide(\n",
    "        train - np.outer(np.ones(train.shape[0]), mean),\n",
    "        np.outer(np.ones(train.shape[0]), std))\n",
    "\n",
    "val_n = np.divide(\n",
    "        val - np.outer(np.ones(val.shape[0]), mean),\n",
    "        np.outer(np.ones(val.shape[0]), std))\n",
    "\n",
    "test_n = np.divide(\n",
    "        test - np.outer(np.ones(test.shape[0]), mean),\n",
    "        np.outer(np.ones(test.shape[0]), std))\n",
    "\n",
    "with tf.Session() as sess:\n",
    "        sess.run(tf.global_variables_initializer())\n",
    "        encoded_train_labels = tf.one_hot(train_labels, depth = n_classes).eval()\n",
    "        encoded_val_labels = tf.one_hot(val_labels, depth = n_classes).eval()\n",
    "        encoded_test_labels = tf.one_hot(test_labels, depth = n_classes).eval()"
   ]
  },
  {
   "cell_type": "markdown",
   "metadata": {},
   "source": [
    "# Optimizing Deep Neural Network Architecture"
   ]
  },
  {
   "cell_type": "markdown",
   "metadata": {},
   "source": [
    "We will fix the number of epochs to 25 and vary dropout, the number of layers and the number of nodes."
   ]
  },
  {
   "cell_type": "code",
   "execution_count": 12,
   "metadata": {},
   "outputs": [],
   "source": [
    "epochs = 25\n",
    "loss = {}\n",
    "acc = {}"
   ]
  },
  {
   "cell_type": "code",
   "execution_count": 15,
   "metadata": {},
   "outputs": [
    {
     "name": "stdout",
     "output_type": "stream",
     "text": [
      "1  layers,  48  nodes,  0.2  dropout 0.71875 % accuracy\n",
      "1  layers,  48  nodes,  0.3  dropout 0.609375 % accuracy\n",
      "1  layers,  48  nodes,  0.5  dropout 0.640625 % accuracy\n",
      "1  layers,  96  nodes,  0.2  dropout 0.640625 % accuracy\n",
      "1  layers,  96  nodes,  0.3  dropout 0.71875 % accuracy\n",
      "1  layers,  96  nodes,  0.5  dropout 0.703125 % accuracy\n",
      "1  layers,  192  nodes,  0.2  dropout 0.6875 % accuracy\n",
      "1  layers,  192  nodes,  0.3  dropout 0.671875 % accuracy\n",
      "1  layers,  192  nodes,  0.5  dropout 0.671875 % accuracy\n",
      "1  layers,  384  nodes,  0.2  dropout 0.671875 % accuracy\n",
      "1  layers,  384  nodes,  0.3  dropout 0.65625 % accuracy\n",
      "1  layers,  384  nodes,  0.5  dropout 0.625 % accuracy\n",
      "2  layers,  48  nodes,  0.2  dropout 0.671875 % accuracy\n",
      "2  layers,  48  nodes,  0.3  dropout 0.640625 % accuracy\n",
      "2  layers,  48  nodes,  0.5  dropout 0.671875 % accuracy\n",
      "2  layers,  96  nodes,  0.2  dropout 0.640625 % accuracy\n",
      "2  layers,  96  nodes,  0.3  dropout 0.671875 % accuracy\n",
      "2  layers,  96  nodes,  0.5  dropout 0.625 % accuracy\n",
      "2  layers,  192  nodes,  0.2  dropout 0.609375 % accuracy\n",
      "2  layers,  192  nodes,  0.3  dropout 0.59375 % accuracy\n",
      "2  layers,  192  nodes,  0.5  dropout 0.65625 % accuracy\n",
      "2  layers,  384  nodes,  0.2  dropout 0.59375 % accuracy\n",
      "2  layers,  384  nodes,  0.3  dropout 0.578125 % accuracy\n",
      "2  layers,  384  nodes,  0.5  dropout 0.640625 % accuracy\n",
      "3  layers,  48  nodes,  0.2  dropout 0.6875 % accuracy\n",
      "3  layers,  48  nodes,  0.3  dropout 0.609375 % accuracy\n",
      "3  layers,  48  nodes,  0.5  dropout 0.65625 % accuracy\n",
      "3  layers,  96  nodes,  0.2  dropout 0.59375 % accuracy\n",
      "3  layers,  96  nodes,  0.3  dropout 0.515625 % accuracy\n",
      "3  layers,  96  nodes,  0.5  dropout 0.578125 % accuracy\n",
      "3  layers,  192  nodes,  0.2  dropout 0.59375 % accuracy\n",
      "3  layers,  192  nodes,  0.3  dropout 0.625 % accuracy\n",
      "3  layers,  192  nodes,  0.5  dropout 0.65625 % accuracy\n",
      "3  layers,  384  nodes,  0.2  dropout 0.625 % accuracy\n",
      "3  layers,  384  nodes,  0.3  dropout 0.515625 % accuracy\n",
      "3  layers,  384  nodes,  0.5  dropout 0.5625 % accuracy\n",
      "4  layers,  48  nodes,  0.2  dropout 0.59375 % accuracy\n",
      "4  layers,  48  nodes,  0.3  dropout 0.625 % accuracy\n",
      "4  layers,  48  nodes,  0.5  dropout 0.546875 % accuracy\n",
      "4  layers,  96  nodes,  0.2  dropout 0.546875 % accuracy\n",
      "4  layers,  96  nodes,  0.3  dropout 0.625 % accuracy\n",
      "4  layers,  96  nodes,  0.5  dropout 0.609375 % accuracy\n",
      "4  layers,  192  nodes,  0.2  dropout 0.578125 % accuracy\n",
      "4  layers,  192  nodes,  0.3  dropout 0.609375 % accuracy\n",
      "4  layers,  192  nodes,  0.5  dropout 0.609375 % accuracy\n",
      "4  layers,  384  nodes,  0.2  dropout 0.5625 % accuracy\n",
      "4  layers,  384  nodes,  0.3  dropout 0.5625 % accuracy\n",
      "4  layers,  384  nodes,  0.5  dropout 0.609375 % accuracy\n"
     ]
    }
   ],
   "source": [
    "for l in [1, 2, 3, 4]:\n",
    "    for i in [1, 2, 4, 8]:\n",
    "        for d in [0.2, 0.3, 0.5]:\n",
    "            \n",
    "            N = i * H\n",
    "            \n",
    "            layers = []\n",
    "            \n",
    "            for n in range(l): \n",
    "                layers.append(tf.keras.layers.Dense(N, activation=tf.nn.relu))\n",
    "                layers.append(tf.keras.layers.Dropout(d))\n",
    "            \n",
    "            layers.append(tf.keras.layers.Dense(n_classes, activation=tf.nn.softmax))\n",
    "            \n",
    "            model = tf.keras.models.Sequential(layers)\n",
    "\n",
    "            model.reset_states()\n",
    "\n",
    "            model.compile(optimizer='adam',\n",
    "                loss='categorical_crossentropy',\n",
    "                    metrics=['accuracy'])\n",
    "\n",
    "            model.fit(train_n, encoded_train_labels, epochs = epochs, verbose = 0)\n",
    "            (loss[(l, i, d)], acc[(l, i, d)]) = model.evaluate(val_n, encoded_val_labels, verbose = 0)\n",
    "            print(l, \" layers, \", N, \" nodes, \", d, \" dropout\", acc[(l, i, d)], \"% accuracy\")"
   ]
  },
  {
   "cell_type": "markdown",
   "metadata": {},
   "source": [
    "# Number of nodes in layer"
   ]
  },
  {
   "cell_type": "code",
   "execution_count": 12,
   "metadata": {},
   "outputs": [],
   "source": [
    "loss = {}\n",
    "acc = {}"
   ]
  },
  {
   "cell_type": "code",
   "execution_count": 13,
   "metadata": {},
   "outputs": [
    {
     "name": "stdout",
     "output_type": "stream",
     "text": [
      "10  epochs,  8  nodes,  0.2  dropout 0.5625 % accuracy\n",
      "10  epochs,  8  nodes,  0.3  dropout 0.640625 % accuracy\n",
      "10  epochs,  8  nodes,  0.5  dropout 0.609375 % accuracy\n",
      "10  epochs,  24  nodes,  0.2  dropout 0.65625 % accuracy\n",
      "10  epochs,  24  nodes,  0.3  dropout 0.625 % accuracy\n",
      "10  epochs,  24  nodes,  0.5  dropout 0.578125 % accuracy\n",
      "10  epochs,  40  nodes,  0.2  dropout 0.578125 % accuracy\n",
      "10  epochs,  40  nodes,  0.3  dropout 0.609375 % accuracy\n",
      "10  epochs,  40  nodes,  0.5  dropout 0.671875 % accuracy\n",
      "10  epochs,  56  nodes,  0.2  dropout 0.640625 % accuracy\n",
      "10  epochs,  56  nodes,  0.3  dropout 0.671875 % accuracy\n",
      "10  epochs,  56  nodes,  0.5  dropout 0.59375 % accuracy\n",
      "10  epochs,  72  nodes,  0.2  dropout 0.640625 % accuracy\n",
      "10  epochs,  72  nodes,  0.3  dropout 0.65625 % accuracy\n",
      "10  epochs,  72  nodes,  0.5  dropout 0.65625 % accuracy\n",
      "10  epochs,  88  nodes,  0.2  dropout 0.640625 % accuracy\n",
      "10  epochs,  88  nodes,  0.3  dropout 0.625 % accuracy\n",
      "10  epochs,  88  nodes,  0.5  dropout 0.625 % accuracy\n",
      "10  epochs,  104  nodes,  0.2  dropout 0.640625 % accuracy\n",
      "10  epochs,  104  nodes,  0.3  dropout 0.671875 % accuracy\n",
      "10  epochs,  104  nodes,  0.5  dropout 0.65625 % accuracy\n",
      "10  epochs,  120  nodes,  0.2  dropout 0.734375 % accuracy\n",
      "10  epochs,  120  nodes,  0.3  dropout 0.625 % accuracy\n",
      "10  epochs,  120  nodes,  0.5  dropout 0.671875 % accuracy\n",
      "15  epochs,  8  nodes,  0.2  dropout 0.59375 % accuracy\n",
      "15  epochs,  8  nodes,  0.3  dropout 0.59375 % accuracy\n",
      "15  epochs,  8  nodes,  0.5  dropout 0.640625 % accuracy\n",
      "15  epochs,  24  nodes,  0.2  dropout 0.53125 % accuracy\n",
      "15  epochs,  24  nodes,  0.3  dropout 0.640625 % accuracy\n",
      "15  epochs,  24  nodes,  0.5  dropout 0.640625 % accuracy\n",
      "15  epochs,  40  nodes,  0.2  dropout 0.6875 % accuracy\n",
      "15  epochs,  40  nodes,  0.3  dropout 0.640625 % accuracy\n",
      "15  epochs,  40  nodes,  0.5  dropout 0.578125 % accuracy\n",
      "15  epochs,  56  nodes,  0.2  dropout 0.625 % accuracy\n",
      "15  epochs,  56  nodes,  0.3  dropout 0.671875 % accuracy\n",
      "15  epochs,  56  nodes,  0.5  dropout 0.609375 % accuracy\n",
      "15  epochs,  72  nodes,  0.2  dropout 0.6875 % accuracy\n",
      "15  epochs,  72  nodes,  0.3  dropout 0.640625 % accuracy\n",
      "15  epochs,  72  nodes,  0.5  dropout 0.625 % accuracy\n",
      "15  epochs,  88  nodes,  0.2  dropout 0.640625 % accuracy\n",
      "15  epochs,  88  nodes,  0.3  dropout 0.609375 % accuracy\n",
      "15  epochs,  88  nodes,  0.5  dropout 0.65625 % accuracy\n",
      "15  epochs,  104  nodes,  0.2  dropout 0.640625 % accuracy\n",
      "15  epochs,  104  nodes,  0.3  dropout 0.625 % accuracy\n",
      "15  epochs,  104  nodes,  0.5  dropout 0.6875 % accuracy\n",
      "15  epochs,  120  nodes,  0.2  dropout 0.671875 % accuracy\n",
      "15  epochs,  120  nodes,  0.3  dropout 0.671875 % accuracy\n",
      "15  epochs,  120  nodes,  0.5  dropout 0.6875 % accuracy\n",
      "20  epochs,  8  nodes,  0.2  dropout 0.59375 % accuracy\n",
      "20  epochs,  8  nodes,  0.3  dropout 0.578125 % accuracy\n",
      "20  epochs,  8  nodes,  0.5  dropout 0.609375 % accuracy\n",
      "20  epochs,  24  nodes,  0.2  dropout 0.59375 % accuracy\n",
      "20  epochs,  24  nodes,  0.3  dropout 0.609375 % accuracy\n",
      "20  epochs,  24  nodes,  0.5  dropout 0.640625 % accuracy\n",
      "20  epochs,  40  nodes,  0.2  dropout 0.625 % accuracy\n",
      "20  epochs,  40  nodes,  0.3  dropout 0.65625 % accuracy\n",
      "20  epochs,  40  nodes,  0.5  dropout 0.609375 % accuracy\n",
      "20  epochs,  56  nodes,  0.2  dropout 0.609375 % accuracy\n",
      "20  epochs,  56  nodes,  0.3  dropout 0.59375 % accuracy\n",
      "20  epochs,  56  nodes,  0.5  dropout 0.640625 % accuracy\n",
      "20  epochs,  72  nodes,  0.2  dropout 0.640625 % accuracy\n",
      "20  epochs,  72  nodes,  0.3  dropout 0.640625 % accuracy\n",
      "20  epochs,  72  nodes,  0.5  dropout 0.640625 % accuracy\n",
      "20  epochs,  88  nodes,  0.2  dropout 0.609375 % accuracy\n",
      "20  epochs,  88  nodes,  0.3  dropout 0.609375 % accuracy\n",
      "20  epochs,  88  nodes,  0.5  dropout 0.65625 % accuracy\n",
      "20  epochs,  104  nodes,  0.2  dropout 0.71875 % accuracy\n",
      "20  epochs,  104  nodes,  0.3  dropout 0.671875 % accuracy\n",
      "20  epochs,  104  nodes,  0.5  dropout 0.671875 % accuracy\n",
      "20  epochs,  120  nodes,  0.2  dropout 0.65625 % accuracy\n",
      "20  epochs,  120  nodes,  0.3  dropout 0.65625 % accuracy\n",
      "20  epochs,  120  nodes,  0.5  dropout 0.671875 % accuracy\n",
      "25  epochs,  8  nodes,  0.2  dropout 0.5625 % accuracy\n",
      "25  epochs,  8  nodes,  0.3  dropout 0.609375 % accuracy\n",
      "25  epochs,  8  nodes,  0.5  dropout 0.640625 % accuracy\n",
      "25  epochs,  24  nodes,  0.2  dropout 0.65625 % accuracy\n",
      "25  epochs,  24  nodes,  0.3  dropout 0.640625 % accuracy\n",
      "25  epochs,  24  nodes,  0.5  dropout 0.59375 % accuracy\n",
      "25  epochs,  40  nodes,  0.2  dropout 0.65625 % accuracy\n",
      "25  epochs,  40  nodes,  0.3  dropout 0.609375 % accuracy\n",
      "25  epochs,  40  nodes,  0.5  dropout 0.625 % accuracy\n",
      "25  epochs,  56  nodes,  0.2  dropout 0.703125 % accuracy\n",
      "25  epochs,  56  nodes,  0.3  dropout 0.71875 % accuracy\n",
      "25  epochs,  56  nodes,  0.5  dropout 0.640625 % accuracy\n",
      "25  epochs,  72  nodes,  0.2  dropout 0.6875 % accuracy\n",
      "25  epochs,  72  nodes,  0.3  dropout 0.671875 % accuracy\n",
      "25  epochs,  72  nodes,  0.5  dropout 0.671875 % accuracy\n",
      "25  epochs,  88  nodes,  0.2  dropout 0.65625 % accuracy\n",
      "25  epochs,  88  nodes,  0.3  dropout 0.65625 % accuracy\n",
      "25  epochs,  88  nodes,  0.5  dropout 0.6875 % accuracy\n",
      "25  epochs,  104  nodes,  0.2  dropout 0.671875 % accuracy\n",
      "25  epochs,  104  nodes,  0.3  dropout 0.671875 % accuracy\n",
      "25  epochs,  104  nodes,  0.5  dropout 0.65625 % accuracy\n",
      "25  epochs,  120  nodes,  0.2  dropout 0.640625 % accuracy\n",
      "25  epochs,  120  nodes,  0.3  dropout 0.671875 % accuracy\n",
      "25  epochs,  120  nodes,  0.5  dropout 0.65625 % accuracy\n",
      "30  epochs,  8  nodes,  0.2  dropout 0.625 % accuracy\n",
      "30  epochs,  8  nodes,  0.3  dropout 0.640625 % accuracy\n",
      "30  epochs,  8  nodes,  0.5  dropout 0.546875 % accuracy\n",
      "30  epochs,  24  nodes,  0.2  dropout 0.65625 % accuracy\n",
      "30  epochs,  24  nodes,  0.3  dropout 0.6875 % accuracy\n",
      "30  epochs,  24  nodes,  0.5  dropout 0.59375 % accuracy\n",
      "30  epochs,  40  nodes,  0.2  dropout 0.625 % accuracy\n",
      "30  epochs,  40  nodes,  0.3  dropout 0.640625 % accuracy\n",
      "30  epochs,  40  nodes,  0.5  dropout 0.671875 % accuracy\n",
      "30  epochs,  56  nodes,  0.2  dropout 0.671875 % accuracy\n",
      "30  epochs,  56  nodes,  0.3  dropout 0.703125 % accuracy\n",
      "30  epochs,  56  nodes,  0.5  dropout 0.640625 % accuracy\n",
      "30  epochs,  72  nodes,  0.2  dropout 0.671875 % accuracy\n",
      "30  epochs,  72  nodes,  0.3  dropout 0.71875 % accuracy\n",
      "30  epochs,  72  nodes,  0.5  dropout 0.6875 % accuracy\n",
      "30  epochs,  88  nodes,  0.2  dropout 0.65625 % accuracy\n",
      "30  epochs,  88  nodes,  0.3  dropout 0.65625 % accuracy\n",
      "30  epochs,  88  nodes,  0.5  dropout 0.65625 % accuracy\n",
      "30  epochs,  104  nodes,  0.2  dropout 0.671875 % accuracy\n",
      "30  epochs,  104  nodes,  0.3  dropout 0.65625 % accuracy\n",
      "30  epochs,  104  nodes,  0.5  dropout 0.625 % accuracy\n",
      "30  epochs,  120  nodes,  0.2  dropout 0.71875 % accuracy\n",
      "30  epochs,  120  nodes,  0.3  dropout 0.671875 % accuracy\n",
      "30  epochs,  120  nodes,  0.5  dropout 0.65625 % accuracy\n"
     ]
    }
   ],
   "source": [
    "for e in [10, 15, 20, 25, 30]:\n",
    "    for N in np.arange(8, 128, 16, dtype = int):\n",
    "        for d in [0.2, 0.3, 0.5]:\n",
    "            \n",
    "            model = tf.keras.models.Sequential([\n",
    "              tf.keras.layers.Dense(N, activation=tf.nn.relu),\n",
    "              tf.keras.layers.Dropout(d),\n",
    "              tf.keras.layers.Dense(n_classes, activation=tf.nn.softmax)\n",
    "            ])\n",
    "\n",
    "            model.reset_states()\n",
    "\n",
    "            model.compile(optimizer='adam',\n",
    "                loss='categorical_crossentropy',\n",
    "                    metrics=['accuracy'])\n",
    "\n",
    "            model.fit(train_n, encoded_train_labels, epochs = e, verbose = 0)\n",
    "            (loss[(e, N, d)], acc[(e, N, d)]) = model.evaluate(val_n, encoded_val_labels, verbose = 0)\n",
    "            print(e, \" epochs, \", N, \" nodes, \", d, \" dropout\", acc[(e, N, d)], \"% accuracy\")"
   ]
  }
 ],
 "metadata": {
  "kernelspec": {
   "display_name": "Python 3",
   "language": "python",
   "name": "python3"
  },
  "language_info": {
   "codemirror_mode": {
    "name": "ipython",
    "version": 3
   },
   "file_extension": ".py",
   "mimetype": "text/x-python",
   "name": "python",
   "nbconvert_exporter": "python",
   "pygments_lexer": "ipython3",
   "version": "3.6.5"
  }
 },
 "nbformat": 4,
 "nbformat_minor": 2
}
