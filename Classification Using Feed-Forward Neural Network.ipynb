{
 "cells": [
  {
   "cell_type": "code",
   "execution_count": 1,
   "metadata": {},
   "outputs": [
    {
     "name": "stderr",
     "output_type": "stream",
     "text": [
      "/Users/paulag/anaconda3/lib/python3.6/site-packages/h5py/__init__.py:36: FutureWarning: Conversion of the second argument of issubdtype from `float` to `np.floating` is deprecated. In future, it will be treated as `np.float64 == np.dtype(float).type`.\n",
      "  from ._conv import register_converters as _register_converters\n"
     ]
    }
   ],
   "source": [
    "import glob\n",
    "import matplotlib.pyplot as plt\n",
    "import numpy as np\n",
    "import pandas\n",
    "import xarray\n",
    "import cftime\n",
    "import tensorflow as tf"
   ]
  },
  {
   "cell_type": "code",
   "execution_count": 2,
   "metadata": {},
   "outputs": [],
   "source": [
    "datapath = 'nino34_monthly.nc'\n",
    "nino34 = xarray.open_dataset(datapath, decode_times = False)\n",
    "nino34 = np.array(nino34['nino34'].values)"
   ]
  },
  {
   "cell_type": "code",
   "execution_count": 3,
   "metadata": {},
   "outputs": [],
   "source": [
    "def ONI(nino34, m = 3):\n",
    "    oni = np.array(nino34)\n",
    "    length = nino34.shape[0]\n",
    "    for i in range(length):\n",
    "        oni[i] = np.mean(nino34[max(0, (i - m + 1)) : min((i + 1), length)])\n",
    "    return oni"
   ]
  },
  {
   "cell_type": "code",
   "execution_count": 4,
   "metadata": {},
   "outputs": [],
   "source": [
    "def climatology(nino34):\n",
    "    clm = np.zeros(12)\n",
    "    length = nino34.shape[0]\n",
    "    for month in range(12):\n",
    "        section = [12 * i + month for i in range(length // 12)]\n",
    "        clm[month] = np.mean(nino34[section])\n",
    "    return clm"
   ]
  },
  {
   "cell_type": "code",
   "execution_count": 5,
   "metadata": {},
   "outputs": [],
   "source": [
    "clm = climatology(nino34)"
   ]
  },
  {
   "cell_type": "code",
   "execution_count": 6,
   "metadata": {},
   "outputs": [],
   "source": [
    "def SST_anomaly(nino34, clm):\n",
    "    anm = np.array(nino34)\n",
    "    length = nino34.shape[0]\n",
    "    for i in range(length):\n",
    "        anm[i] = nino34[i] - clm[i % 12]\n",
    "    return anm"
   ]
  },
  {
   "cell_type": "code",
   "execution_count": 7,
   "metadata": {},
   "outputs": [],
   "source": [
    "anm = SST_anomaly(nino34, clm)\n",
    "oni = ONI(anm)"
   ]
  },
  {
   "cell_type": "markdown",
   "metadata": {},
   "source": [
    "# Data Preparation"
   ]
  },
  {
   "cell_type": "code",
   "execution_count": 8,
   "metadata": {},
   "outputs": [],
   "source": [
    "T = 1      # prediction timeline\n",
    "H = 48   # history used for prediction\n",
    "include_month = 1           # 1 if we use the month as a feature, 0 otherwise\n",
    "n_classes = 81               # number of classes (El Nino, El Nina, No Event)\n",
    "threshold = 0.1         \n",
    "signal = np.array(nino34[12 * 50:])   # data used for training/testing\n",
    "length = signal.shape[0]    # number of data points"
   ]
  },
  {
   "cell_type": "code",
   "execution_count": 9,
   "metadata": {},
   "outputs": [],
   "source": [
    "np.random.seed(0)\n",
    "\n",
    "size = length - H - T       # effective dataset size\n",
    "        \n",
    "# create the 'history matrix'\n",
    "data = np.ndarray((size, H + include_month))\n",
    "for i in range(size):\n",
    "    if(include_month == False):\n",
    "         data[i] = signal[i:(i + H)]\n",
    "    else:\n",
    "        data[i] = np.append(signal[i:(i + H)], (i + H + T) % 12)\n",
    "\n",
    "labels = np.ndarray((size), dtype = int)\n",
    "        \n",
    "for i in range(size):\n",
    "    labels[i] = np.trunc(oni[i + H + T] / threshold) + n_classes // 2\n",
    "    labels[i] = max(labels[i], 0)\n",
    "    labels[i] = min(labels[i], n_classes - 1) \n",
    "\n",
    "split = size // 10      \n",
    "shuffle = np.random.permutation(size)\n",
    "train_ind = np.array(shuffle[0: 8 * split])\n",
    "val_ind = np.array(shuffle[8 * split: 9 * split])\n",
    "test_ind = np.array(shuffle[9 * split: size])\n",
    "\n",
    "train = np.array(data[train_ind])\n",
    "train_labels = np.array(labels[train_ind])\n",
    "\n",
    "val = np.array(data[val_ind])\n",
    "val_labels = np.array(labels[val_ind])\n",
    "\n",
    "test = np.array(data[test_ind])\n",
    "test_labels = np.array(labels[test_ind])\n",
    "        \n",
    "mean = np.mean(train, axis = 0)\n",
    "std = np.std(train, axis = 0)\n",
    "\n",
    "train_n = np.divide(\n",
    "        train - np.outer(np.ones(train.shape[0]), mean),\n",
    "        np.outer(np.ones(train.shape[0]), std))\n",
    "\n",
    "val_n = np.divide(\n",
    "        val - np.outer(np.ones(val.shape[0]), mean),\n",
    "        np.outer(np.ones(val.shape[0]), std))\n",
    "\n",
    "test_n = np.divide(\n",
    "        test - np.outer(np.ones(test.shape[0]), mean),\n",
    "        np.outer(np.ones(test.shape[0]), std))\n",
    "        \n",
    "with tf.Session() as sess:\n",
    "    sess.run(tf.global_variables_initializer())\n",
    "    encoded_train_labels = tf.one_hot(train_labels, depth = n_classes).eval()\n",
    "    encoded_val_labels = tf.one_hot(val_labels, depth = n_classes).eval()\n",
    "    encoded_test_labels = tf.one_hot(test_labels, depth = n_classes).eval()"
   ]
  },
  {
   "cell_type": "code",
   "execution_count": 10,
   "metadata": {},
   "outputs": [
    {
     "data": {
      "image/png": "[encoded data removed]",
      "text/plain": [
       "<Figure size 432x288 with 1 Axes>"
      ]
     },
     "metadata": {},
     "output_type": "display_data"
    }
   ],
   "source": [
    "plt.hist(labels, n_classes, range = (0, n_classes));"
   ]
  },
  {
   "cell_type": "markdown",
   "metadata": {},
   "source": [
    "# Training the Network"
   ]
  },
  {
   "cell_type": "code",
   "execution_count": 20,
   "metadata": {},
   "outputs": [],
   "source": [
    "(d, N1, N2, N3) = (0.3, 768, 768, 384)\n",
    "epochs = 40\n",
    "        \n",
    "acc = 0\n",
    "loss = 0\n",
    "        \n",
    "model = tf.keras.models.Sequential([\n",
    "              tf.keras.layers.Dense(N1, activation=tf.nn.relu),\n",
    "              tf.keras.layers.Dropout(d),\n",
    "              tf.keras.layers.Dense(N2, activation=tf.nn.relu),\n",
    "              tf.keras.layers.Dropout(d),\n",
    "              tf.keras.layers.Dense(N3, activation=tf.nn.relu),\n",
    "              tf.keras.layers.Dropout(d),\n",
    "              tf.keras.layers.Dense(n_classes, activation=tf.nn.softmax)\n",
    "            ])\n",
    "\n",
    "model.compile(optimizer='adam', loss='categorical_crossentropy', metrics=['accuracy'])\n",
    "\n",
    "history = model.fit(train_n, encoded_train_labels, epochs = epochs, verbose = 0)\n",
    "(loss, acc) = model.evaluate(val_n, encoded_val_labels, verbose = 0)"
   ]
  },
  {
   "cell_type": "code",
   "execution_count": 21,
   "metadata": {},
   "outputs": [
    {
     "data": {
      "image/png": "[encoded data removed]",
      "text/plain": [
       "<Figure size 432x288 with 1 Axes>"
      ]
     },
     "metadata": {},
     "output_type": "display_data"
    }
   ],
   "source": [
    "plt.plot(history.history['acc']);\n",
    "plt.ylabel('accuracy');\n",
    "plt.xlabel('epoch');"
   ]
  },
  {
   "cell_type": "markdown",
   "metadata": {},
   "source": [
    "# Results (Validation)"
   ]
  },
  {
   "cell_type": "code",
   "execution_count": 22,
   "metadata": {},
   "outputs": [
    {
     "name": "stdout",
     "output_type": "stream",
     "text": [
      "Accuracy on Validation: 0.15664335672671978\n"
     ]
    }
   ],
   "source": [
    "print(\"Accuracy on Validation:\", acc)"
   ]
  },
  {
   "cell_type": "code",
   "execution_count": 24,
   "metadata": {},
   "outputs": [
    {
     "name": "stdout",
     "output_type": "stream",
     "text": [
      "0.5986013986013986\n"
     ]
    }
   ],
   "source": [
    "pred2 = pred - n_classes // 2\n",
    "pred2 = np.maximum(pred2, -1)\n",
    "pred2 = np.minimum(pred2, 1)\n",
    "\n",
    "val_labels2 = val_labels - n_classes // 2\n",
    "val_labels2 = np.maximum(val_labels2, -1)\n",
    "val_labels2 = np.minimum(val_labels2, 1)\n",
    "\n",
    "print(np.sum(pred2 == val_labels2) / val_labels.shape[0])"
   ]
  },
  {
   "cell_type": "code",
   "execution_count": 25,
   "metadata": {},
   "outputs": [
    {
     "data": {
      "image/png": "[encoded data removed]",
      "text/plain": [
       "<Figure size 432x288 with 2 Axes>"
      ]
     },
     "metadata": {},
     "output_type": "display_data"
    }
   ],
   "source": [
    "plt.hist2d(val_labels, pred, cmap = plt.cm.Spectral, vmax = 30);\n",
    "plt.colorbar();"
   ]
  },
  {
   "cell_type": "code",
   "execution_count": 26,
   "metadata": {},
   "outputs": [
    {
     "data": {
      "image/png": "[encoded data removed]",
      "text/plain": [
       "<Figure size 432x288 with 1 Axes>"
      ]
     },
     "metadata": {},
     "output_type": "display_data"
    }
   ],
   "source": [
    "plt.plot(val_labels, pred, \".\");"
   ]
  },
  {
   "cell_type": "markdown",
   "metadata": {},
   "source": [
    "# Performance on Training Data"
   ]
  },
  {
   "cell_type": "code",
   "execution_count": 27,
   "metadata": {},
   "outputs": [],
   "source": [
    "train_pred = model.predict_classes(train_n, verbose = 0)"
   ]
  },
  {
   "cell_type": "code",
   "execution_count": 28,
   "metadata": {},
   "outputs": [
    {
     "data": {
      "image/png": "[encoded data removed]",
      "text/plain": [
       "<Figure size 432x288 with 2 Axes>"
      ]
     },
     "metadata": {},
     "output_type": "display_data"
    }
   ],
   "source": [
    "plt.hist2d(train_labels, train_pred, cmap = plt.cm.Spectral, vmax = 100);\n",
    "plt.colorbar();"
   ]
  },
  {
   "cell_type": "code",
   "execution_count": 29,
   "metadata": {},
   "outputs": [
    {
     "data": {
      "image/png": "[encoded data removed]",
      "text/plain": [
       "<Figure size 432x288 with 1 Axes>"
      ]
     },
     "metadata": {},
     "output_type": "display_data"
    }
   ],
   "source": [
    "plt.plot(train_labels, train_pred, \".\");"
   ]
  },
  {
   "cell_type": "markdown",
   "metadata": {},
   "source": [
    "# Comparison with Support Vector Classifier"
   ]
  },
  {
   "cell_type": "code",
   "execution_count": 30,
   "metadata": {},
   "outputs": [
    {
     "name": "stdout",
     "output_type": "stream",
     "text": [
      "9.93 %\n"
     ]
    }
   ],
   "source": [
    "from sklearn import multiclass\n",
    "from sklearn.svm import SVC\n",
    "\n",
    "clf = multiclass.OneVsRestClassifier(SVC(kernel='rbf', random_state = 0))\n",
    "clf.fit(train, train_labels)\n",
    "acc_SVC = clf.score(val, val_labels)\n",
    "\n",
    "print(np.around(acc_SVC * 100, decimals = 2), \"%\")"
   ]
  }
 ],
 "metadata": {
  "kernelspec": {
   "display_name": "Python 3",
   "language": "python",
   "name": "python3"
  },
  "language_info": {
   "codemirror_mode": {
    "name": "ipython",
    "version": 3
   },
   "file_extension": ".py",
   "mimetype": "text/x-python",
   "name": "python",
   "nbconvert_exporter": "python",
   "pygments_lexer": "ipython3",
   "version": "3.6.5"
  }
 },
 "nbformat": 4,
 "nbformat_minor": 2
}
