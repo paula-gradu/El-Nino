{
 "cells": [
  {
   "cell_type": "code",
   "execution_count": 28,
   "metadata": {},
   "outputs": [],
   "source": [
    "import glob\n",
    "import matplotlib.pyplot as plt\n",
    "import numpy as np\n",
    "import pandas\n",
    "import xarray\n",
    "import cftime\n",
    "import tensorflow as tf"
   ]
  },
  {
   "cell_type": "code",
   "execution_count": 29,
   "metadata": {},
   "outputs": [
    {
     "name": "stdout",
     "output_type": "stream",
     "text": [
      "<xarray.Dataset>\n",
      "Dimensions:         (bounds: 2, month: 12, time: 7800)\n",
      "Coordinates:\n",
      "  * time            (time) float64 15.5 45.0 74.5 ... 2.372e+05 2.372e+05\n",
      "Dimensions without coordinates: bounds, month\n",
      "Data variables:\n",
      "    nino34          (time) float64 ...\n",
      "    time_bnds       (time, bounds) float64 ...\n",
      "    areacello       float32 ...\n",
      "    days_per_month  (month) int32 ...\n"
     ]
    }
   ],
   "source": [
    "datapath = 'nino34_monthly.nc'\n",
    "nino34 = xarray.open_dataset(datapath, decode_times = False)\n",
    "print(nino34)\n",
    "nino34 = np.array(nino34['nino34'].values)"
   ]
  },
  {
   "cell_type": "code",
   "execution_count": 30,
   "metadata": {},
   "outputs": [],
   "source": [
    "def ONI(nino34, m = 3):\n",
    "    oni = np.array(nino34)\n",
    "    length = nino34.shape[0]\n",
    "    for i in range(length):\n",
    "        oni[i] = np.mean(nino34[max(0, (i - m + 1)) : min((i + 1), length)])\n",
    "    return oni"
   ]
  },
  {
   "cell_type": "code",
   "execution_count": 31,
   "metadata": {},
   "outputs": [],
   "source": [
    "oni = ONI(nino34)"
   ]
  },
  {
   "cell_type": "code",
   "execution_count": 32,
   "metadata": {},
   "outputs": [],
   "source": [
    "def climatology(nino34):\n",
    "    clm = np.zeros(12)\n",
    "    length = nino34.shape[0]\n",
    "    for month in range(12):\n",
    "        section = [12 * i + month for i in range(length // 12)]\n",
    "        clm[month] = np.mean(nino34[section])\n",
    "    return clm"
   ]
  },
  {
   "cell_type": "code",
   "execution_count": 33,
   "metadata": {},
   "outputs": [],
   "source": [
    "clm = climatology(nino34)"
   ]
  },
  {
   "cell_type": "code",
   "execution_count": 34,
   "metadata": {},
   "outputs": [],
   "source": [
    "def SST_anomaly(nino34, clm):\n",
    "    anm = np.array(nino34)\n",
    "    length = nino34.shape[0]\n",
    "    for i in range(length):\n",
    "        anm[i] = nino34[i] - clm[i % 12]\n",
    "    return anm"
   ]
  },
  {
   "cell_type": "code",
   "execution_count": 35,
   "metadata": {},
   "outputs": [],
   "source": [
    "anm = SST_anomaly(nino34, clm)\n",
    "oanm = ONI(anm)"
   ]
  },
  {
   "cell_type": "markdown",
   "metadata": {},
   "source": [
    "# Data Preparation"
   ]
  },
  {
   "cell_type": "code",
   "execution_count": 36,
   "metadata": {},
   "outputs": [],
   "source": [
    "T = 6                       # prediction timeline\n",
    "H = 48                      # history used for prediction\n",
    "include_month = 1           # 1 if we use the month as a feature, 0 otherwise\n",
    "n_classes = 3               # number of classes (El Nino, El Nina, No Event)\n",
    "threshold = 0.5         \n",
    "signal = np.array(nino34)   # data used for training/testing\n",
    "length = signal.shape[0]    # number of data points\n",
    "size = length - H - T       # effective dataset size"
   ]
  },
  {
   "cell_type": "code",
   "execution_count": 37,
   "metadata": {},
   "outputs": [],
   "source": [
    "# create the 'history matrix'\n",
    "data = np.ndarray((size, H + include_month))\n",
    "for i in range(size):\n",
    "    if(include_month == False):\n",
    "        data[i] = signal[i:(i + H)]\n",
    "    else:\n",
    "        data[i] = np.append(signal[i:(i + H)], (i + H + T) % 12)\n",
    "\n",
    "# label El Nino as 2, El Nina as 0 and no event as 1\n",
    "labels = np.ndarray((size))\n",
    "for i in range(length - H - T):\n",
    "    if(oanm[i + H + T] >= threshold):\n",
    "        labels[i] = 2\n",
    "    elif(oanm[i + H + T] <= -threshold):\n",
    "        labels[i] = 0\n",
    "    else:\n",
    "        labels[i] = 1"
   ]
  },
  {
   "cell_type": "code",
   "execution_count": 38,
   "metadata": {},
   "outputs": [],
   "source": [
    "np.random.seed(0)\n",
    "\n",
    "split = size // 10      \n",
    "shuffle = np.random.permutation(size)\n",
    "train_ind = np.array(shuffle[0: 8 * split])\n",
    "val_ind = np.array(shuffle[(8 * split + 1): 9 * split])\n",
    "test_ind = np.array(shuffle[(9 * split + 1): size])\n",
    "\n",
    "train = np.array(data[train_ind])\n",
    "train_labels = np.array(labels[train_ind])\n",
    "\n",
    "val = np.array(data[val_ind])\n",
    "val_labels = np.array(labels[val_ind])\n",
    "\n",
    "test = np.array(data[test_ind])\n",
    "test_labels = np.array(labels[test_ind])"
   ]
  },
  {
   "cell_type": "markdown",
   "metadata": {},
   "source": [
    "# Normalization and Label One-Hot Encoding"
   ]
  },
  {
   "cell_type": "markdown",
   "metadata": {},
   "source": [
    "We normalize each feature individually because of the difference in scale between month number and temperature values."
   ]
  },
  {
   "cell_type": "code",
   "execution_count": 39,
   "metadata": {},
   "outputs": [],
   "source": [
    "mean = np.mean(train, axis = 0)\n",
    "std = np.std(train, axis = 0)\n",
    "\n",
    "train_n = np.divide(\n",
    "    train - np.outer(np.ones(train.shape[0]), mean),\n",
    "    np.outer(np.ones(train.shape[0]), std))\n",
    "\n",
    "val_n = np.divide(\n",
    "    val - np.outer(np.ones(val.shape[0]), mean),\n",
    "    np.outer(np.ones(val.shape[0]), std))\n",
    "\n",
    "test_n = np.divide(\n",
    "    test - np.outer(np.ones(test.shape[0]), mean),\n",
    "    np.outer(np.ones(test.shape[0]), std))\n",
    "\n",
    "with tf.Session() as sess:\n",
    "    sess.run(tf.global_variables_initializer())\n",
    "    encoded_train_labels = tf.one_hot(train_labels, depth = n_classes).eval()\n",
    "    encoded_val_labels = tf.one_hot(val_labels, depth = n_classes).eval()\n",
    "    encoded_test_labels = tf.one_hot(test_labels, depth = n_classes).eval()"
   ]
  },
  {
   "cell_type": "markdown",
   "metadata": {},
   "source": [
    "# Training Network using the month feature"
   ]
  },
  {
   "cell_type": "markdown",
   "metadata": {},
   "source": [
    "We will use the augmented data with the best architectures chosen in Part III."
   ]
  },
  {
   "cell_type": "code",
   "execution_count": 35,
   "metadata": {},
   "outputs": [
    {
     "name": "stdout",
     "output_type": "stream",
     "text": [
      "0.3 192 768 1536 => 0.7619663649666356\n",
      "0.2 384 768 384 => 0.7296248383309215\n",
      "0.5 384 768 384 => 0.7373868047342881\n",
      "0.3 384 768 768 => 0.7399741269330004\n",
      "0.5 768 384 768 => 0.7438551100382984\n",
      "0.2 768 384 1536 => 0.756791720607765\n",
      "0.5 768 384 1536 => 0.7477360932207046\n",
      "0.3 768 768 384 => 0.7632600259503294\n",
      "0.2 768 1536 768 => 0.738680465756536\n",
      "0.5 768 1536 768 => 0.7283311772701194\n",
      "0.2 1536 384 384 => 0.7076326004129486\n",
      "0.5 1536 768 192 => 0.7166882277229008\n",
      "0.3 1536 768 384 => 0.7218628720046631\n",
      "0.3 1536 768 768 => 0.7309184995073859\n",
      "0.3 1536 768 1536 => 0.7477360932978128\n",
      "0.5 1536 1536 384 => 0.7115135834796925\n"
     ]
    }
   ],
   "source": [
    "for m in best_models:\n",
    "    (d, N1, N2, N3) = m\n",
    "    model = tf.keras.models.Sequential([\n",
    "              tf.keras.layers.Dense(N1, activation=tf.nn.relu),\n",
    "              tf.keras.layers.Dropout(d),\n",
    "              tf.keras.layers.Dense(N2, activation=tf.nn.relu),\n",
    "              tf.keras.layers.Dropout(d),\n",
    "              tf.keras.layers.Dense(N3, activation=tf.nn.relu),\n",
    "              tf.keras.layers.Dropout(d),\n",
    "              tf.keras.layers.Dense(n_classes, activation=tf.nn.softmax)\n",
    "            ])\n",
    "\n",
    "    model.reset_states()\n",
    "\n",
    "    model.compile(optimizer='adam',\n",
    "        loss='categorical_crossentropy',\n",
    "        metrics=['accuracy'])\n",
    "\n",
    "    model.fit(train_n, encoded_train_labels, epochs = epochs, verbose = 0)\n",
    "    (loss_m[(d, N1, N2, N3)], acc_m[(d, N1, N2, N3)]) = model.evaluate(val_n, encoded_val_labels, verbose = 0)\n",
    "    print(d, N1, N2, N3, \"=>\", acc_m[(d, N1, N2, N3)])"
   ]
  },
  {
   "cell_type": "markdown",
   "metadata": {},
   "source": [
    "# Success per month"
   ]
  },
  {
   "cell_type": "code",
   "execution_count": 41,
   "metadata": {},
   "outputs": [],
   "source": [
    "epochs = 60"
   ]
  },
  {
   "cell_type": "code",
   "execution_count": 42,
   "metadata": {},
   "outputs": [
    {
     "ename": "IndexError",
     "evalue": "arrays used as indices must be of integer (or boolean) type",
     "output_type": "error",
     "traceback": [
      "\u001b[0;31m---------------------------------------------------------------------------\u001b[0m",
      "\u001b[0;31mIndexError\u001b[0m                                Traceback (most recent call last)",
      "\u001b[0;32m<ipython-input-42-e2f00dd9f995>\u001b[0m in \u001b[0;36m<module>\u001b[0;34m()\u001b[0m\n\u001b[1;32m     23\u001b[0m \u001b[0;34m\u001b[0m\u001b[0m\n\u001b[1;32m     24\u001b[0m \u001b[0;32mfor\u001b[0m \u001b[0mm\u001b[0m \u001b[0;32min\u001b[0m \u001b[0mrange\u001b[0m\u001b[0;34m(\u001b[0m\u001b[0;36m12\u001b[0m\u001b[0;34m)\u001b[0m\u001b[0;34m:\u001b[0m\u001b[0;34m\u001b[0m\u001b[0m\n\u001b[0;32m---> 25\u001b[0;31m     \u001b[0;34m(\u001b[0m\u001b[0mloss_m\u001b[0m\u001b[0;34m[\u001b[0m\u001b[0mm\u001b[0m\u001b[0;34m]\u001b[0m\u001b[0;34m,\u001b[0m \u001b[0macc_m\u001b[0m\u001b[0;34m[\u001b[0m\u001b[0mm\u001b[0m\u001b[0;34m]\u001b[0m\u001b[0;34m)\u001b[0m \u001b[0;34m=\u001b[0m \u001b[0mmodel\u001b[0m\u001b[0;34m.\u001b[0m\u001b[0mevaluate\u001b[0m\u001b[0;34m(\u001b[0m\u001b[0mval_n\u001b[0m\u001b[0;34m,\u001b[0m \u001b[0mencoded_val_labels\u001b[0m\u001b[0;34m[\u001b[0m\u001b[0;36m12\u001b[0m \u001b[0;34m*\u001b[0m \u001b[0mnp\u001b[0m\u001b[0;34m.\u001b[0m\u001b[0marange\u001b[0m\u001b[0;34m(\u001b[0m\u001b[0mlength\u001b[0m \u001b[0;34m//\u001b[0m \u001b[0;36m12\u001b[0m\u001b[0;34m)\u001b[0m \u001b[0;34m+\u001b[0m \u001b[0mm\u001b[0m \u001b[0;34m*\u001b[0m \u001b[0mnp\u001b[0m\u001b[0;34m.\u001b[0m\u001b[0mones\u001b[0m\u001b[0;34m(\u001b[0m\u001b[0;34m(\u001b[0m\u001b[0mlength\u001b[0m \u001b[0;34m//\u001b[0m \u001b[0;36m12\u001b[0m\u001b[0;34m)\u001b[0m\u001b[0;34m)\u001b[0m\u001b[0;34m]\u001b[0m\u001b[0;34m,\u001b[0m \u001b[0mverbose\u001b[0m \u001b[0;34m=\u001b[0m \u001b[0;36m0\u001b[0m\u001b[0;34m)\u001b[0m\u001b[0;34m\u001b[0m\u001b[0m\n\u001b[0m\u001b[1;32m     26\u001b[0m     \u001b[0mprint\u001b[0m\u001b[0;34m(\u001b[0m\u001b[0macc_m\u001b[0m\u001b[0;34m[\u001b[0m\u001b[0mm\u001b[0m\u001b[0;34m]\u001b[0m\u001b[0;34m)\u001b[0m\u001b[0;34m\u001b[0m\u001b[0m\n\u001b[1;32m     27\u001b[0m \u001b[0;34m\u001b[0m\u001b[0m\n",
      "\u001b[0;31mIndexError\u001b[0m: arrays used as indices must be of integer (or boolean) type"
     ]
    }
   ],
   "source": [
    "(d, N1, N2, N3) = (0.3, 768, 768, 384)\n",
    "model = tf.keras.models.Sequential([\n",
    "          tf.keras.layers.Dense(N1, activation=tf.nn.relu),\n",
    "          tf.keras.layers.Dropout(d),\n",
    "          tf.keras.layers.Dense(N2, activation=tf.nn.relu),\n",
    "          tf.keras.layers.Dropout(d),\n",
    "          tf.keras.layers.Dense(N3, activation=tf.nn.relu),\n",
    "          tf.keras.layers.Dropout(d),\n",
    "          tf.keras.layers.Dense(n_classes, activation=tf.nn.softmax)\n",
    "        ])\n",
    "\n",
    "model.reset_states()\n",
    "\n",
    "model.compile(optimizer='adam',\n",
    "    loss='categorical_crossentropy',\n",
    "    metrics=['accuracy'])\n",
    "\n",
    "model.fit(train_n, encoded_train_labels, epochs = epochs, verbose = 0)"
   ]
  },
  {
   "cell_type": "code",
   "execution_count": 44,
   "metadata": {},
   "outputs": [
    {
     "name": "stdout",
     "output_type": "stream",
     "text": [
      "0.734375\n",
      "0.765625\n",
      "0.71875\n",
      "0.703125\n",
      "0.671875\n",
      "0.703125\n",
      "0.6875\n",
      "0.734375\n",
      "0.671875\n",
      "0.671875\n",
      "0.65625\n",
      "0.734375\n"
     ]
    },
    {
     "data": {
      "image/png": "[encoded data removed]",
      "text/plain": [
       "<Figure size 432x288 with 1 Axes>"
      ]
     },
     "metadata": {},
     "output_type": "display_data"
    }
   ],
   "source": [
    "length = encoded_val_labels.shape[0]\n",
    "loss_m = np.zeros(12)\n",
    "acc_m = np.zeros(12)\n",
    "\n",
    "for m in range(12):\n",
    "    selection = 12 * np.arange(length // 12) + m * np.ones((length // 12), dtype = int)\n",
    "    (loss_m[m], acc_m[m]) = model.evaluate(val_n[selection], encoded_val_labels[selection], verbose = 0)\n",
    "    print(acc_m[m])\n",
    "    \n",
    "plt.plot(acc_m);"
   ]
  }
 ],
 "metadata": {
  "kernelspec": {
   "display_name": "Python 3",
   "language": "python",
   "name": "python3"
  },
  "language_info": {
   "codemirror_mode": {
    "name": "ipython",
    "version": 3
   },
   "file_extension": ".py",
   "mimetype": "text/x-python",
   "name": "python",
   "nbconvert_exporter": "python",
   "pygments_lexer": "ipython3",
   "version": "3.6.5"
  }
 },
 "nbformat": 4,
 "nbformat_minor": 2
}
