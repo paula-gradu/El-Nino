{
 "cells": [
  {
   "cell_type": "code",
   "execution_count": 2,
   "metadata": {},
   "outputs": [
    {
     "name": "stderr",
     "output_type": "stream",
     "text": [
      "/Users/paulag/anaconda3/lib/python3.6/site-packages/h5py/__init__.py:36: FutureWarning: Conversion of the second argument of issubdtype from `float` to `np.floating` is deprecated. In future, it will be treated as `np.float64 == np.dtype(float).type`.\n",
      "  from ._conv import register_converters as _register_converters\n"
     ]
    }
   ],
   "source": [
    "import glob\n",
    "import matplotlib.pyplot as plt\n",
    "import numpy as np\n",
    "import pandas\n",
    "import xarray\n",
    "import cftime\n",
    "import tensorflow as tf"
   ]
  },
  {
   "cell_type": "code",
   "execution_count": 3,
   "metadata": {},
   "outputs": [
    {
     "name": "stdout",
     "output_type": "stream",
     "text": [
      "<xarray.Dataset>\n",
      "Dimensions:         (bounds: 2, month: 12, time: 7800)\n",
      "Coordinates:\n",
      "  * time            (time) float64 15.5 45.0 74.5 ... 2.372e+05 2.372e+05\n",
      "Dimensions without coordinates: bounds, month\n",
      "Data variables:\n",
      "    nino34          (time) float64 ...\n",
      "    time_bnds       (time, bounds) float64 ...\n",
      "    areacello       float32 ...\n",
      "    days_per_month  (month) int32 ...\n"
     ]
    }
   ],
   "source": [
    "datapath = 'nino34_monthly.nc'\n",
    "nino34 = xarray.open_dataset(datapath, decode_times = False)\n",
    "print(nino34)\n",
    "nino34 = np.array(nino34['nino34'].values)"
   ]
  },
  {
   "cell_type": "code",
   "execution_count": 4,
   "metadata": {},
   "outputs": [],
   "source": [
    "def ONI(nino34, m = 3):\n",
    "    oni = np.array(nino34)\n",
    "    length = nino34.shape[0]\n",
    "    for i in range(length):\n",
    "        oni[i] = np.mean(nino34[max(0, (i - m + 1)) : min((i + 1), length)])\n",
    "    return oni"
   ]
  },
  {
   "cell_type": "code",
   "execution_count": 5,
   "metadata": {},
   "outputs": [],
   "source": [
    "oni = ONI(nino34)"
   ]
  },
  {
   "cell_type": "code",
   "execution_count": 6,
   "metadata": {},
   "outputs": [],
   "source": [
    "def climatology(nino34):\n",
    "    clm = np.zeros(12)\n",
    "    length = nino34.shape[0]\n",
    "    for month in range(12):\n",
    "        section = [12 * i + month for i in range(length // 12)]\n",
    "        clm[month] = np.mean(nino34[section])\n",
    "    return clm"
   ]
  },
  {
   "cell_type": "code",
   "execution_count": 7,
   "metadata": {},
   "outputs": [],
   "source": [
    "clm = climatology(nino34)"
   ]
  },
  {
   "cell_type": "code",
   "execution_count": 8,
   "metadata": {},
   "outputs": [],
   "source": [
    "def SST_anomaly(nino34, clm):\n",
    "    anm = np.array(nino34)\n",
    "    length = nino34.shape[0]\n",
    "    for i in range(length):\n",
    "        anm[i] = nino34[i] - clm[i % 12]\n",
    "    return anm"
   ]
  },
  {
   "cell_type": "code",
   "execution_count": 9,
   "metadata": {},
   "outputs": [],
   "source": [
    "anm = SST_anomaly(nino34, clm)\n",
    "oanm = ONI(anm)"
   ]
  },
  {
   "cell_type": "markdown",
   "metadata": {},
   "source": [
    "# Data Preparation"
   ]
  },
  {
   "cell_type": "code",
   "execution_count": 10,
   "metadata": {},
   "outputs": [],
   "source": [
    "T = 6                       # prediction timeline\n",
    "H = 48                      # history used for prediction\n",
    "include_month = 1           # 1 if we use the month as a feature, 0 otherwise\n",
    "n_classes = 3               # number of classes (El Nino, El Nina, No Event)\n",
    "threshold = 0.5         \n",
    "signal = np.array(nino34)   # data used for training/testing\n",
    "length = signal.shape[0]    # number of data points\n",
    "size = length - H - T       # effective dataset size"
   ]
  },
  {
   "cell_type": "code",
   "execution_count": 11,
   "metadata": {},
   "outputs": [],
   "source": [
    "# create the 'history matrix'\n",
    "data = np.ndarray((size, H + include_month))\n",
    "for i in range(size):\n",
    "    if(include_month == False):\n",
    "        data[i] = signal[i:(i + H)]\n",
    "    else:\n",
    "        data[i] = np.append(signal[i:(i + H)], (i + H + T) % 12)\n",
    "\n",
    "# label El Nino as 2, El Nina as 0 and no event as 1\n",
    "labels = np.ndarray((size))\n",
    "for i in range(length - H - T):\n",
    "    if(oanm[i + H + T] >= threshold):\n",
    "        labels[i] = 2\n",
    "    elif(oanm[i + H + T] <= -threshold):\n",
    "        labels[i] = 0\n",
    "    else:\n",
    "        labels[i] = 1"
   ]
  },
  {
   "cell_type": "code",
   "execution_count": 12,
   "metadata": {},
   "outputs": [],
   "source": [
    "np.random.seed(0)\n",
    "\n",
    "split = size // 10      \n",
    "shuffle = np.random.permutation(size)\n",
    "train_ind = np.array(shuffle[0: 8 * split])\n",
    "val_ind = np.array(shuffle[(8 * split + 1): 9 * split])\n",
    "test_ind = np.array(shuffle[(9 * split + 1): size])\n",
    "\n",
    "train = np.array(data[train_ind])\n",
    "train_labels = np.array(labels[train_ind])\n",
    "\n",
    "val = np.array(data[val_ind])\n",
    "val_labels = np.array(labels[val_ind])\n",
    "\n",
    "test = np.array(data[test_ind])\n",
    "test_labels = np.array(labels[test_ind])"
   ]
  },
  {
   "cell_type": "markdown",
   "metadata": {},
   "source": [
    "# Normalization and Label One-Hot Encoding"
   ]
  },
  {
   "cell_type": "markdown",
   "metadata": {},
   "source": [
    "We normalize each feature individually because of the difference in scale between month number and temperature values."
   ]
  },
  {
   "cell_type": "code",
   "execution_count": 26,
   "metadata": {},
   "outputs": [],
   "source": [
    "mean = np.mean(train, axis = 0)\n",
    "std = np.std(train, axis = 0)\n",
    "\n",
    "train_n = np.divide(\n",
    "    train - np.outer(np.ones(train.shape[0]), mean),\n",
    "    np.outer(np.ones(train.shape[0]), std))\n",
    "\n",
    "val_n = np.divide(\n",
    "    val - np.outer(np.ones(val.shape[0]), mean),\n",
    "    np.outer(np.ones(val.shape[0]), std))\n",
    "\n",
    "test_n = np.divide(\n",
    "    test - np.outer(np.ones(test.shape[0]), mean),\n",
    "    np.outer(np.ones(test.shape[0]), std))\n",
    "\n",
    "with tf.Session() as sess:\n",
    "    sess.run(tf.global_variables_initializer())\n",
    "    encoded_train_labels = tf.one_hot(train_labels, depth = n_classes).eval()\n",
    "    encoded_val_labels = tf.one_hot(val_labels, depth = n_classes).eval()\n",
    "    encoded_test_labels = tf.one_hot(test_labels, depth = n_classes).eval()"
   ]
  },
  {
   "cell_type": "markdown",
   "metadata": {},
   "source": [
    "# Training a Network using the month feature"
   ]
  },
  {
   "cell_type": "code",
   "execution_count": 32,
   "metadata": {},
   "outputs": [],
   "source": [
    "epochs = 40\n",
    "dropout_rate = 0.3\n",
    "N = 4 * H"
   ]
  },
  {
   "cell_type": "code",
   "execution_count": 29,
   "metadata": {},
   "outputs": [
    {
     "name": "stdout",
     "output_type": "stream",
     "text": [
      "Epoch 1/40\n",
      "6192/6192 [==============================] - 2s 261us/step - loss: 0.9483 - acc: 0.5404\n",
      "Epoch 2/40\n",
      "6192/6192 [==============================] - 1s 161us/step - loss: 0.8703 - acc: 0.5887\n",
      "Epoch 3/40\n",
      "6192/6192 [==============================] - 1s 167us/step - loss: 0.8327 - acc: 0.6064\n",
      "Epoch 4/40\n",
      "6192/6192 [==============================] - 1s 162us/step - loss: 0.8137 - acc: 0.6184\n",
      "Epoch 5/40\n",
      "6192/6192 [==============================] - 1s 144us/step - loss: 0.7926 - acc: 0.6281\n",
      "Epoch 6/40\n",
      "6192/6192 [==============================] - 1s 132us/step - loss: 0.7683 - acc: 0.6442\n",
      "Epoch 7/40\n",
      "6192/6192 [==============================] - 1s 154us/step - loss: 0.7409 - acc: 0.6652\n",
      "Epoch 8/40\n",
      "6192/6192 [==============================] - 1s 143us/step - loss: 0.7098 - acc: 0.6757\n",
      "Epoch 9/40\n",
      "6192/6192 [==============================] - 1s 143us/step - loss: 0.6857 - acc: 0.6917\n",
      "Epoch 10/40\n",
      "6192/6192 [==============================] - 1s 134us/step - loss: 0.6540 - acc: 0.7051\n",
      "Epoch 11/40\n",
      "6192/6192 [==============================] - 1s 135us/step - loss: 0.6209 - acc: 0.7243\n",
      "Epoch 12/40\n",
      "6192/6192 [==============================] - 1s 137us/step - loss: 0.5841 - acc: 0.7442\n",
      "Epoch 13/40\n",
      "6192/6192 [==============================] - 1s 138us/step - loss: 0.5405 - acc: 0.7673\n",
      "Epoch 14/40\n",
      "6192/6192 [==============================] - 1s 130us/step - loss: 0.5187 - acc: 0.7749\n",
      "Epoch 15/40\n",
      "6192/6192 [==============================] - 1s 132us/step - loss: 0.4699 - acc: 0.7983\n",
      "Epoch 16/40\n",
      "6192/6192 [==============================] - 1s 133us/step - loss: 0.4348 - acc: 0.8196\n",
      "Epoch 17/40\n",
      "6192/6192 [==============================] - 1s 132us/step - loss: 0.4064 - acc: 0.8325\n",
      "Epoch 18/40\n",
      "6192/6192 [==============================] - 1s 133us/step - loss: 0.3583 - acc: 0.8559\n",
      "Epoch 19/40\n",
      "6192/6192 [==============================] - 1s 135us/step - loss: 0.3294 - acc: 0.8700\n",
      "Epoch 20/40\n",
      "6192/6192 [==============================] - 1s 131us/step - loss: 0.2843 - acc: 0.8941\n",
      "Epoch 21/40\n",
      "6192/6192 [==============================] - 1s 133us/step - loss: 0.2529 - acc: 0.9031\n",
      "Epoch 22/40\n",
      "6192/6192 [==============================] - 1s 135us/step - loss: 0.2343 - acc: 0.9120\n",
      "Epoch 23/40\n",
      "6192/6192 [==============================] - 1s 133us/step - loss: 0.2047 - acc: 0.9243\n",
      "Epoch 24/40\n",
      "6192/6192 [==============================] - 1s 138us/step - loss: 0.1830 - acc: 0.9372\n",
      "Epoch 25/40\n",
      "6192/6192 [==============================] - 1s 131us/step - loss: 0.1713 - acc: 0.9419\n",
      "Epoch 26/40\n",
      "6192/6192 [==============================] - 1s 133us/step - loss: 0.1511 - acc: 0.9464\n",
      "Epoch 27/40\n",
      "6192/6192 [==============================] - 1s 137us/step - loss: 0.1202 - acc: 0.9622\n",
      "Epoch 28/40\n",
      "6192/6192 [==============================] - 1s 132us/step - loss: 0.1020 - acc: 0.9695\n",
      "Epoch 29/40\n",
      "6192/6192 [==============================] - 1s 133us/step - loss: 0.1225 - acc: 0.9578\n",
      "Epoch 30/40\n",
      "6192/6192 [==============================] - 1s 135us/step - loss: 0.1290 - acc: 0.9557\n",
      "Epoch 31/40\n",
      "6192/6192 [==============================] - 1s 135us/step - loss: 0.1123 - acc: 0.9643\n",
      "Epoch 32/40\n",
      "6192/6192 [==============================] - 1s 134us/step - loss: 0.0657 - acc: 0.9835\n",
      "Epoch 33/40\n",
      "6192/6192 [==============================] - 1s 133us/step - loss: 0.0564 - acc: 0.9840\n",
      "Epoch 34/40\n",
      "6192/6192 [==============================] - 1s 133us/step - loss: 0.0774 - acc: 0.9761\n",
      "Epoch 35/40\n",
      "6192/6192 [==============================] - 1s 131us/step - loss: 0.1071 - acc: 0.9638\n",
      "Epoch 36/40\n",
      "6192/6192 [==============================] - 1s 130us/step - loss: 0.0678 - acc: 0.9797\n",
      "Epoch 37/40\n",
      "6192/6192 [==============================] - 1s 132us/step - loss: 0.0741 - acc: 0.9771\n",
      "Epoch 38/40\n",
      "6192/6192 [==============================] - 1s 133us/step - loss: 0.0933 - acc: 0.9675\n",
      "Epoch 39/40\n",
      "6192/6192 [==============================] - 1s 136us/step - loss: 0.1068 - acc: 0.9645\n",
      "Epoch 40/40\n",
      "6192/6192 [==============================] - 1s 130us/step - loss: 0.0563 - acc: 0.9850\n",
      "773/773 [==============================] - 0s 212us/step\n"
     ]
    },
    {
     "data": {
      "text/plain": [
       "[1.553181263638653, 0.6856403622443741]"
      ]
     },
     "execution_count": 29,
     "metadata": {},
     "output_type": "execute_result"
    }
   ],
   "source": [
    "model = tf.keras.models.Sequential([\n",
    "              tf.keras.layers.Dense(N, activation=tf.nn.relu),\n",
    "              tf.keras.layers.Dropout(dropout_rate),\n",
    "              tf.keras.layers.Dense(N, activation=tf.nn.relu),\n",
    "              tf.keras.layers.Dropout(dropout_rate),\n",
    "              tf.keras.layers.Dense(N, activation=tf.nn.relu),\n",
    "              tf.keras.layers.Dropout(dropout_rate),\n",
    "              tf.keras.layers.Dense(n_classes, activation=tf.nn.softmax)\n",
    "            ])\n",
    "\n",
    "model.reset_states()\n",
    "\n",
    "model.compile(optimizer='adam',\n",
    "    loss='categorical_crossentropy',\n",
    "    metrics=['accuracy'])\n",
    "\n",
    "model.fit(train_n, encoded_train_labels, epochs = epochs)\n",
    "model.evaluate(val_n, encoded_val_labels)"
   ]
  },
  {
   "cell_type": "markdown",
   "metadata": {},
   "source": [
    "The accuracy above suggests there are no issues with our method of normalization. We will now use this augmented data with the architecture chosen in Part III."
   ]
  },
  {
   "cell_type": "code",
   "execution_count": null,
   "metadata": {},
   "outputs": [],
   "source": [
    "epochs = 50\n",
    "dropout_rate = 0.5\n",
    "(N1, N2, N3) = (4 * H, 8 * H, 8 * H)"
   ]
  },
  {
   "cell_type": "code",
   "execution_count": null,
   "metadata": {},
   "outputs": [],
   "source": [
    "model = tf.keras.models.Sequential([\n",
    "              tf.keras.layers.Dense(N1, activation=tf.nn.relu),\n",
    "              tf.keras.layers.Dropout(dropout_rate),\n",
    "              tf.keras.layers.Dense(N2, activation=tf.nn.relu),\n",
    "              tf.keras.layers.Dropout(dropout_rate),\n",
    "              tf.keras.layers.Dense(N3, activation=tf.nn.relu),\n",
    "              tf.keras.layers.Dropout(dropout_rate),\n",
    "              tf.keras.layers.Dense(n_classes, activation=tf.nn.softmax)\n",
    "            ])\n",
    "\n",
    "model.reset_states()\n",
    "\n",
    "model.compile(optimizer='adam',\n",
    "    loss='categorical_crossentropy',\n",
    "    metrics=['accuracy'])\n",
    "\n",
    "model.fit(train_n, encoded_train_labels, epochs = epochs)\n",
    "model.evaluate(val_n, encoded_val_labels)"
   ]
  }
 ],
 "metadata": {
  "kernelspec": {
   "display_name": "Python 3",
   "language": "python",
   "name": "python3"
  },
  "language_info": {
   "codemirror_mode": {
    "name": "ipython",
    "version": 3
   },
   "file_extension": ".py",
   "mimetype": "text/x-python",
   "name": "python",
   "nbconvert_exporter": "python",
   "pygments_lexer": "ipython3",
   "version": "3.6.5"
  }
 },
 "nbformat": 4,
 "nbformat_minor": 2
}
