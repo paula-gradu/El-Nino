{
 "cells": [
  {
   "cell_type": "code",
   "execution_count": 2,
   "metadata": {},
   "outputs": [
    {
     "name": "stderr",
     "output_type": "stream",
     "text": [
      "/Users/paulag/anaconda3/lib/python3.6/site-packages/h5py/__init__.py:36: FutureWarning: Conversion of the second argument of issubdtype from `float` to `np.floating` is deprecated. In future, it will be treated as `np.float64 == np.dtype(float).type`.\n",
      "  from ._conv import register_converters as _register_converters\n"
     ]
    }
   ],
   "source": [
    "import glob\n",
    "import matplotlib.pyplot as plt\n",
    "import numpy as np\n",
    "import pandas\n",
    "import xarray\n",
    "import cftime\n",
    "import tensorflow as tf"
   ]
  },
  {
   "cell_type": "code",
   "execution_count": 3,
   "metadata": {},
   "outputs": [
    {
     "name": "stdout",
     "output_type": "stream",
     "text": [
      "<xarray.Dataset>\n",
      "Dimensions:         (bounds: 2, month: 12, time: 7800)\n",
      "Coordinates:\n",
      "  * time            (time) float64 15.5 45.0 74.5 ... 2.372e+05 2.372e+05\n",
      "Dimensions without coordinates: bounds, month\n",
      "Data variables:\n",
      "    nino34          (time) float64 ...\n",
      "    time_bnds       (time, bounds) float64 ...\n",
      "    areacello       float32 ...\n",
      "    days_per_month  (month) int32 ...\n"
     ]
    }
   ],
   "source": [
    "datapath = 'nino34_monthly.nc'\n",
    "nino34 = xarray.open_dataset(datapath, decode_times = False)\n",
    "print(nino34)\n",
    "nino34 = np.array(nino34['nino34'].values)"
   ]
  },
  {
   "cell_type": "code",
   "execution_count": 4,
   "metadata": {},
   "outputs": [],
   "source": [
    "def ONI(nino34, m = 3):\n",
    "    oni = np.array(nino34)\n",
    "    length = nino34.shape[0]\n",
    "    for i in range(length):\n",
    "        oni[i] = np.mean(nino34[max(0, (i - m + 1)) : min((i + 1), length)])\n",
    "    return oni"
   ]
  },
  {
   "cell_type": "code",
   "execution_count": 5,
   "metadata": {},
   "outputs": [],
   "source": [
    "oni = ONI(nino34)"
   ]
  },
  {
   "cell_type": "code",
   "execution_count": 6,
   "metadata": {},
   "outputs": [],
   "source": [
    "def climatology(nino34):\n",
    "    clm = np.zeros(12)\n",
    "    length = nino34.shape[0]\n",
    "    for month in range(12):\n",
    "        section = [12 * i + month for i in range(length // 12)]\n",
    "        clm[month] = np.mean(nino34[section])\n",
    "    return clm"
   ]
  },
  {
   "cell_type": "code",
   "execution_count": 7,
   "metadata": {},
   "outputs": [],
   "source": [
    "clm = climatology(nino34)"
   ]
  },
  {
   "cell_type": "code",
   "execution_count": 8,
   "metadata": {},
   "outputs": [],
   "source": [
    "def SST_anomaly(nino34, clm):\n",
    "    anm = np.array(nino34)\n",
    "    length = nino34.shape[0]\n",
    "    for i in range(length):\n",
    "        anm[i] = nino34[i] - clm[i % 12]\n",
    "    return anm"
   ]
  },
  {
   "cell_type": "code",
   "execution_count": 9,
   "metadata": {},
   "outputs": [],
   "source": [
    "anm = SST_anomaly(nino34, clm)\n",
    "oanm = ONI(anm)"
   ]
  },
  {
   "cell_type": "markdown",
   "metadata": {},
   "source": [
    "# Data Preparation"
   ]
  },
  {
   "cell_type": "code",
   "execution_count": 14,
   "metadata": {},
   "outputs": [],
   "source": [
    "T = [1, 4, 7, 10, 13]       # prediction timeline\n",
    "H = [12, 24, 36, 48, 60]    # history used for prediction\n",
    "include_month = 1           # 1 if we use the month as a feature, 0 otherwise\n",
    "n_classes = 3               # number of classes (El Nino, El Nina, No Event)\n",
    "threshold = 0.5         \n",
    "signal = np.array(nino34[12 * 50:])   # data used for training/testing\n",
    "length = signal.shape[0]    # number of data points"
   ]
  },
  {
   "cell_type": "code",
   "execution_count": 15,
   "metadata": {},
   "outputs": [
    {
     "name": "stdout",
     "output_type": "stream",
     "text": [
      "1 12 => 0.39748953979051926\n",
      "1 24 => 0.4916201115653502\n",
      "1 36 => 0.682517482767572\n",
      "1 48 => 0.7044817927170869\n",
      "1 60 => 0.7724719101123596\n",
      "4 12 => 0.39051603955038755\n",
      "4 24 => 0.5055865920122775\n",
      "4 36 => 0.6377622381790534\n",
      "4 48 => 0.7391304350333996\n",
      "4 60 => 0.800561797752809\n",
      "7 12 => 0.38354253847894976\n",
      "7 24 => 0.4769230771314848\n",
      "7 36 => 0.6246498602778972\n",
      "7 48 => 0.7503506312196419\n",
      "7 60 => 0.7640449438202247\n",
      "10 12 => 0.4036312849162011\n",
      "10 24 => 0.49930069963415186\n",
      "10 36 => 0.6428571430241027\n",
      "10 48 => 0.7545582047894827\n",
      "10 60 => 0.7893258426966292\n",
      "13 12 => 0.4259776536312849\n",
      "13 24 => 0.5482517485018377\n",
      "13 36 => 0.6750700281781643\n",
      "13 48 => 0.7275280898876404\n",
      "13 60 => 0.7721518987760932\n"
     ]
    }
   ],
   "source": [
    "np.random.seed(0)\n",
    "\n",
    "for t in T:\n",
    "    for h in H:\n",
    "        \n",
    "        size = length - h - t       # effective dataset size\n",
    "        \n",
    "        # create the 'history matrix'\n",
    "        data = np.ndarray((size, h + include_month))\n",
    "        for i in range(size):\n",
    "            if(include_month == False):\n",
    "                data[i] = signal[i:(i + h)]\n",
    "            else:\n",
    "                data[i] = np.append(signal[i:(i + h)], (i + h + t) % 12)\n",
    "\n",
    "        # label El Nino as 2, El Nina as 0 and no event as 1\n",
    "        labels = np.ndarray((size))\n",
    "        \n",
    "        for i in range(size):\n",
    "            if(oanm[i + h + t] >= threshold):\n",
    "                labels[i] = 2\n",
    "            elif(oanm[i + h + t] <= -threshold):\n",
    "                labels[i] = 0\n",
    "            else:\n",
    "                labels[i] = 1\n",
    "\n",
    "        split = size // 10      \n",
    "        shuffle = np.random.permutation(size)\n",
    "        train_ind = np.array(shuffle[0: 8 * split])\n",
    "        val_ind = np.array(shuffle[(8 * split + 1): 9 * split])\n",
    "        test_ind = np.array(shuffle[(9 * split + 1): size])\n",
    "\n",
    "        train = np.array(data[train_ind])\n",
    "        train_labels = np.array(labels[train_ind])\n",
    "\n",
    "        val = np.array(data[val_ind])\n",
    "        val_labels = np.array(labels[val_ind])\n",
    "\n",
    "        test = np.array(data[test_ind])\n",
    "        test_labels = np.array(labels[test_ind])\n",
    "        \n",
    "        mean = np.mean(train, axis = 0)\n",
    "        std = np.std(train, axis = 0)\n",
    "\n",
    "        train_n = np.divide(\n",
    "            train - np.outer(np.ones(train.shape[0]), mean),\n",
    "            np.outer(np.ones(train.shape[0]), std))\n",
    "\n",
    "        val_n = np.divide(\n",
    "            val - np.outer(np.ones(val.shape[0]), mean),\n",
    "            np.outer(np.ones(val.shape[0]), std))\n",
    "\n",
    "        test_n = np.divide(\n",
    "            test - np.outer(np.ones(test.shape[0]), mean),\n",
    "            np.outer(np.ones(test.shape[0]), std))\n",
    "        \n",
    "        with tf.Session() as sess:\n",
    "            sess.run(tf.global_variables_initializer())\n",
    "            encoded_train_labels = tf.one_hot(train_labels, depth = n_classes).eval()\n",
    "            encoded_val_labels = tf.one_hot(val_labels, depth = n_classes).eval()\n",
    "            encoded_test_labels = tf.one_hot(test_labels, depth = n_classes).eval()\n",
    "            \n",
    "        (d, N1, N2, N3) = (0.3, 768, 768, 384)\n",
    "        epochs = 60\n",
    "        \n",
    "        acc_th = {}\n",
    "        loss_th = {}\n",
    "        \n",
    "        model = tf.keras.models.Sequential([\n",
    "              tf.keras.layers.Dense(N1, activation=tf.nn.relu),\n",
    "              tf.keras.layers.Dropout(d),\n",
    "              tf.keras.layers.Dense(N2, activation=tf.nn.relu),\n",
    "              tf.keras.layers.Dropout(d),\n",
    "              tf.keras.layers.Dense(N3, activation=tf.nn.relu),\n",
    "              tf.keras.layers.Dropout(d),\n",
    "              tf.keras.layers.Dense(n_classes, activation=tf.nn.softmax)\n",
    "            ])\n",
    "\n",
    "        model.reset_states()\n",
    "\n",
    "        model.compile(optimizer='adam',\n",
    "            loss='categorical_crossentropy',\n",
    "            metrics=['accuracy'])\n",
    "\n",
    "        model.fit(train_n, encoded_train_labels, epochs = epochs, verbose = 0)\n",
    "        (loss_th[(t, h)], acc_th[(t, h)]) = model.evaluate(val_n, encoded_val_labels, verbose = 0)\n",
    "        \n",
    "        print(t, h, \"=>\", acc_th[(t, h)])"
   ]
  }
 ],
 "metadata": {
  "kernelspec": {
   "display_name": "Python 3",
   "language": "python",
   "name": "python3"
  },
  "language_info": {
   "codemirror_mode": {
    "name": "ipython",
    "version": 3
   },
   "file_extension": ".py",
   "mimetype": "text/x-python",
   "name": "python",
   "nbconvert_exporter": "python",
   "pygments_lexer": "ipython3",
   "version": "3.6.5"
  }
 },
 "nbformat": 4,
 "nbformat_minor": 2
}
