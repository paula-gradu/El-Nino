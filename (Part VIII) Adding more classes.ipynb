{
 "cells": [
  {
   "cell_type": "code",
   "execution_count": 3,
   "metadata": {},
   "outputs": [
    {
     "name": "stderr",
     "output_type": "stream",
     "text": [
      "/Users/paulag/anaconda3/lib/python3.6/site-packages/h5py/__init__.py:36: FutureWarning: Conversion of the second argument of issubdtype from `float` to `np.floating` is deprecated. In future, it will be treated as `np.float64 == np.dtype(float).type`.\n",
      "  from ._conv import register_converters as _register_converters\n"
     ]
    }
   ],
   "source": [
    "import glob\n",
    "import matplotlib.pyplot as plt\n",
    "import numpy as np\n",
    "import pandas\n",
    "import xarray\n",
    "import cftime\n",
    "import tensorflow as tf"
   ]
  },
  {
   "cell_type": "code",
   "execution_count": 4,
   "metadata": {},
   "outputs": [
    {
     "name": "stdout",
     "output_type": "stream",
     "text": [
      "<xarray.Dataset>\n",
      "Dimensions:         (bounds: 2, month: 12, time: 7800)\n",
      "Coordinates:\n",
      "  * time            (time) float64 15.5 45.0 74.5 ... 2.372e+05 2.372e+05\n",
      "Dimensions without coordinates: bounds, month\n",
      "Data variables:\n",
      "    nino34          (time) float64 ...\n",
      "    time_bnds       (time, bounds) float64 ...\n",
      "    areacello       float32 ...\n",
      "    days_per_month  (month) int32 ...\n"
     ]
    }
   ],
   "source": [
    "datapath = 'nino34_monthly.nc'\n",
    "nino34 = xarray.open_dataset(datapath, decode_times = False)\n",
    "print(nino34)\n",
    "nino34 = np.array(nino34['nino34'].values)"
   ]
  },
  {
   "cell_type": "code",
   "execution_count": 5,
   "metadata": {},
   "outputs": [],
   "source": [
    "def ONI(nino34, m = 3):\n",
    "    oni = np.array(nino34)\n",
    "    length = nino34.shape[0]\n",
    "    for i in range(length):\n",
    "        oni[i] = np.mean(nino34[max(0, (i - m + 1)) : min((i + 1), length)])\n",
    "    return oni"
   ]
  },
  {
   "cell_type": "code",
   "execution_count": 6,
   "metadata": {},
   "outputs": [],
   "source": [
    "oni = ONI(nino34)"
   ]
  },
  {
   "cell_type": "code",
   "execution_count": 7,
   "metadata": {},
   "outputs": [],
   "source": [
    "def climatology(nino34):\n",
    "    clm = np.zeros(12)\n",
    "    length = nino34.shape[0]\n",
    "    for month in range(12):\n",
    "        section = [12 * i + month for i in range(length // 12)]\n",
    "        clm[month] = np.mean(nino34[section])\n",
    "    return clm"
   ]
  },
  {
   "cell_type": "code",
   "execution_count": 8,
   "metadata": {},
   "outputs": [],
   "source": [
    "clm = climatology(nino34)"
   ]
  },
  {
   "cell_type": "code",
   "execution_count": 9,
   "metadata": {},
   "outputs": [],
   "source": [
    "def SST_anomaly(nino34, clm):\n",
    "    anm = np.array(nino34)\n",
    "    length = nino34.shape[0]\n",
    "    for i in range(length):\n",
    "        anm[i] = nino34[i] - clm[i % 12]\n",
    "    return anm"
   ]
  },
  {
   "cell_type": "code",
   "execution_count": 10,
   "metadata": {},
   "outputs": [],
   "source": [
    "anm = SST_anomaly(nino34, clm)\n",
    "oanm = ONI(anm)"
   ]
  },
  {
   "cell_type": "markdown",
   "metadata": {},
   "source": [
    "# Data Preparation"
   ]
  },
  {
   "cell_type": "code",
   "execution_count": 24,
   "metadata": {},
   "outputs": [],
   "source": [
    "T = 7      # prediction timeline\n",
    "H = 48   # history used for prediction\n",
    "include_month = 1           # 1 if we use the month as a feature, 0 otherwise\n",
    "n_classes = 13               # number of classes (El Nino, El Nina, No Event)\n",
    "threshold = 0.5         \n",
    "signal = np.array(nino34[12 * 50:])   # data used for training/testing\n",
    "length = signal.shape[0]    # number of data points"
   ]
  },
  {
   "cell_type": "code",
   "execution_count": 29,
   "metadata": {},
   "outputs": [],
   "source": [
    "np.random.seed(0)\n",
    "\n",
    "size = length - H - T       # effective dataset size\n",
    "        \n",
    "# create the 'history matrix'\n",
    "data = np.ndarray((size, H + include_month))\n",
    "for i in range(size):\n",
    "    if(include_month == False):\n",
    "         data[i] = signal[i:(i + H)]\n",
    "    else:\n",
    "        data[i] = np.append(signal[i:(i + H)], (i + H + T) % 12)\n",
    "\n",
    "labels = np.ndarray((size), dtype = int)\n",
    "        \n",
    "for i in range(size):\n",
    "    labels[i] = oanm[i + H + T] // threshold + 6\n",
    "\n",
    "split = size // 10      \n",
    "shuffle = np.random.permutation(size)\n",
    "train_ind = np.array(shuffle[0: 8 * split])\n",
    "val_ind = np.array(shuffle[8 * split: 9 * split])\n",
    "test_ind = np.array(shuffle[9 * split: size])\n",
    "\n",
    "train = np.array(data[train_ind])\n",
    "train_labels = np.array(labels[train_ind])\n",
    "\n",
    "val = np.array(data[val_ind])\n",
    "val_labels = np.array(labels[val_ind])\n",
    "\n",
    "test = np.array(data[test_ind])\n",
    "test_labels = np.array(labels[test_ind])\n",
    "        \n",
    "mean = np.mean(train, axis = 0)\n",
    "std = np.std(train, axis = 0)\n",
    "\n",
    "train_n = np.divide(\n",
    "        train - np.outer(np.ones(train.shape[0]), mean),\n",
    "        np.outer(np.ones(train.shape[0]), std))\n",
    "\n",
    "val_n = np.divide(\n",
    "        val - np.outer(np.ones(val.shape[0]), mean),\n",
    "        np.outer(np.ones(val.shape[0]), std))\n",
    "\n",
    "test_n = np.divide(\n",
    "        test - np.outer(np.ones(test.shape[0]), mean),\n",
    "        np.outer(np.ones(test.shape[0]), std))\n",
    "        \n",
    "with tf.Session() as sess:\n",
    "    sess.run(tf.global_variables_initializer())\n",
    "    encoded_train_labels = tf.one_hot(train_labels, depth = n_classes).eval()\n",
    "    encoded_val_labels = tf.one_hot(val_labels, depth = n_classes).eval()\n",
    "    encoded_test_labels = tf.one_hot(test_labels, depth = n_classes).eval()"
   ]
  },
  {
   "cell_type": "code",
   "execution_count": 33,
   "metadata": {},
   "outputs": [
    {
     "name": "stdout",
     "output_type": "stream",
     "text": [
      "Epoch 1/25\n",
      "5712/5712 [==============================] - 4s 630us/step - loss: 1.9294 - acc: 0.2433\n",
      "Epoch 2/25\n",
      "5712/5712 [==============================] - 3s 531us/step - loss: 1.8823 - acc: 0.2567\n",
      "Epoch 3/25\n",
      "5712/5712 [==============================] - 3s 480us/step - loss: 1.8572 - acc: 0.2698\n",
      "Epoch 4/25\n",
      "5712/5712 [==============================] - 3s 484us/step - loss: 1.8236 - acc: 0.2806\n",
      "Epoch 5/25\n",
      "5712/5712 [==============================] - 2s 434us/step - loss: 1.7759 - acc: 0.3029\n",
      "Epoch 6/25\n",
      "5712/5712 [==============================] - 2s 426us/step - loss: 1.7174 - acc: 0.3309\n",
      "Epoch 7/25\n",
      "5712/5712 [==============================] - 3s 446us/step - loss: 1.6490 - acc: 0.3564\n",
      "Epoch 8/25\n",
      "5712/5712 [==============================] - 2s 426us/step - loss: 1.5596 - acc: 0.3857\n",
      "Epoch 9/25\n",
      "5712/5712 [==============================] - 3s 457us/step - loss: 1.4538 - acc: 0.4266\n",
      "Epoch 10/25\n",
      "5712/5712 [==============================] - 3s 451us/step - loss: 1.3393 - acc: 0.4774\n",
      "Epoch 11/25\n",
      "5712/5712 [==============================] - 3s 603us/step - loss: 1.2090 - acc: 0.5361\n",
      "Epoch 12/25\n",
      "5712/5712 [==============================] - 3s 587us/step - loss: 1.0740 - acc: 0.5916\n",
      "Epoch 13/25\n",
      "5712/5712 [==============================] - 3s 555us/step - loss: 0.9426 - acc: 0.6392\n",
      "Epoch 14/25\n",
      "5712/5712 [==============================] - 3s 555us/step - loss: 0.7901 - acc: 0.7038\n",
      "Epoch 15/25\n",
      "5712/5712 [==============================] - 3s 521us/step - loss: 0.6913 - acc: 0.7446\n",
      "Epoch 16/25\n",
      "5712/5712 [==============================] - 3s 503us/step - loss: 0.5601 - acc: 0.7981\n",
      "Epoch 17/25\n",
      "5712/5712 [==============================] - 3s 586us/step - loss: 0.4612 - acc: 0.8307\n",
      "Epoch 18/25\n",
      "5712/5712 [==============================] - 3s 566us/step - loss: 0.3997 - acc: 0.8615\n",
      "Epoch 19/25\n",
      "5712/5712 [==============================] - 3s 529us/step - loss: 0.3245 - acc: 0.8892\n",
      "Epoch 20/25\n",
      "5712/5712 [==============================] - 3s 508us/step - loss: 0.2859 - acc: 0.9041\n",
      "Epoch 21/25\n",
      "5712/5712 [==============================] - 3s 487us/step - loss: 0.2104 - acc: 0.9336\n",
      "Epoch 22/25\n",
      "5712/5712 [==============================] - 3s 505us/step - loss: 0.2252 - acc: 0.9303\n",
      "Epoch 23/25\n",
      "5712/5712 [==============================] - 3s 524us/step - loss: 0.1917 - acc: 0.9387\n",
      "Epoch 24/25\n",
      "5712/5712 [==============================] - 3s 524us/step - loss: 0.1703 - acc: 0.9491\n",
      "Epoch 25/25\n",
      "5712/5712 [==============================] - 4s 631us/step - loss: 0.1797 - acc: 0.9438\n"
     ]
    },
    {
     "ename": "NameError",
     "evalue": "name 't' is not defined",
     "output_type": "error",
     "traceback": [
      "\u001b[0;31m---------------------------------------------------------------------------\u001b[0m",
      "\u001b[0;31mNameError\u001b[0m                                 Traceback (most recent call last)",
      "\u001b[0;32m<ipython-input-33-807c43b6c374>\u001b[0m in \u001b[0;36m<module>\u001b[0;34m()\u001b[0m\n\u001b[1;32m     24\u001b[0m \u001b[0;34m(\u001b[0m\u001b[0mloss\u001b[0m\u001b[0;34m,\u001b[0m \u001b[0macc\u001b[0m\u001b[0;34m)\u001b[0m \u001b[0;34m=\u001b[0m \u001b[0mmodel\u001b[0m\u001b[0;34m.\u001b[0m\u001b[0mevaluate\u001b[0m\u001b[0;34m(\u001b[0m\u001b[0mval_n\u001b[0m\u001b[0;34m,\u001b[0m \u001b[0mencoded_val_labels\u001b[0m\u001b[0;34m,\u001b[0m \u001b[0mverbose\u001b[0m \u001b[0;34m=\u001b[0m \u001b[0;36m0\u001b[0m\u001b[0;34m)\u001b[0m\u001b[0;34m\u001b[0m\u001b[0m\n\u001b[1;32m     25\u001b[0m \u001b[0;34m\u001b[0m\u001b[0m\n\u001b[0;32m---> 26\u001b[0;31m \u001b[0mprint\u001b[0m\u001b[0;34m(\u001b[0m\u001b[0mt\u001b[0m\u001b[0;34m,\u001b[0m \u001b[0mh\u001b[0m\u001b[0;34m,\u001b[0m \u001b[0;34m\"=>\"\u001b[0m\u001b[0;34m,\u001b[0m \u001b[0macc\u001b[0m\u001b[0;34m)\u001b[0m\u001b[0;34m\u001b[0m\u001b[0m\n\u001b[0m",
      "\u001b[0;31mNameError\u001b[0m: name 't' is not defined"
     ]
    }
   ],
   "source": [
    "(d, N1, N2, N3) = (0.3, 768, 768, 384)\n",
    "epochs = 25\n",
    "        \n",
    "acc = 0\n",
    "loss = 0\n",
    "        \n",
    "model = tf.keras.models.Sequential([\n",
    "              tf.keras.layers.Dense(N1, activation=tf.nn.relu),\n",
    "              tf.keras.layers.Dropout(d),\n",
    "              tf.keras.layers.Dense(N2, activation=tf.nn.relu),\n",
    "              tf.keras.layers.Dropout(d),\n",
    "              tf.keras.layers.Dense(N3, activation=tf.nn.relu),\n",
    "              tf.keras.layers.Dropout(d),\n",
    "              tf.keras.layers.Dense(n_classes, activation=tf.nn.softmax)\n",
    "            ])\n",
    "\n",
    "model.reset_states()\n",
    "\n",
    "model.compile(optimizer='adam',\n",
    "            loss='categorical_crossentropy',\n",
    "            metrics=['accuracy'])\n",
    "\n",
    "model.fit(train_n, encoded_train_labels, epochs = epochs)\n",
    "(loss, acc) = model.evaluate(val_n, encoded_val_labels, verbose = 0)"
   ]
  },
  {
   "cell_type": "code",
   "execution_count": 34,
   "metadata": {},
   "outputs": [
    {
     "name": "stdout",
     "output_type": "stream",
     "text": [
      "0.5238095239764836\n"
     ]
    }
   ],
   "source": [
    "print(acc)"
   ]
  },
  {
   "cell_type": "code",
   "execution_count": 51,
   "metadata": {},
   "outputs": [
    {
     "name": "stdout",
     "output_type": "stream",
     "text": [
      "2.033613445378151\n",
      "0.9957983193277311\n",
      "0.8991596638655462\n"
     ]
    }
   ],
   "source": [
    "pred = model.predict_classes(val_n, verbose = 0)\n",
    "dist = np.abs(pred - val_labels)\n",
    "MSE = np.mean(dist * dist)\n",
    "easy_acc = np.mean(dist < 6)\n",
    "easy_acc2 = np.mean(dist < 3)\n",
    "print(MSE)\n",
    "print(easy_acc)\n",
    "print(easy_acc2)"
   ]
  },
  {
   "cell_type": "code",
   "execution_count": 52,
   "metadata": {},
   "outputs": [
    {
     "name": "stdout",
     "output_type": "stream",
     "text": [
      "34.45 %\n"
     ]
    }
   ],
   "source": [
    "from sklearn import multiclass\n",
    "from sklearn.svm import SVC\n",
    "\n",
    "clf = multiclass.OneVsRestClassifier(SVC(kernel='rbf', random_state = 0))\n",
    "clf.fit(train, train_labels)\n",
    "acc_SVC = clf.score(val, val_labels)\n",
    "\n",
    "print(np.around(acc_SVC * 100, decimals = 2), \"%\")"
   ]
  }
 ],
 "metadata": {
  "kernelspec": {
   "display_name": "Python 3",
   "language": "python",
   "name": "python3"
  },
  "language_info": {
   "codemirror_mode": {
    "name": "ipython",
    "version": 3
   },
   "file_extension": ".py",
   "mimetype": "text/x-python",
   "name": "python",
   "nbconvert_exporter": "python",
   "pygments_lexer": "ipython3",
   "version": "3.6.5"
  }
 },
 "nbformat": 4,
 "nbformat_minor": 2
}
