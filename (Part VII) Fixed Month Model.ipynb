{
 "cells": [
  {
   "cell_type": "code",
   "execution_count": 1,
   "metadata": {},
   "outputs": [
    {
     "name": "stderr",
     "output_type": "stream",
     "text": [
      "/Users/paulag/anaconda3/lib/python3.6/site-packages/h5py/__init__.py:36: FutureWarning: Conversion of the second argument of issubdtype from `float` to `np.floating` is deprecated. In future, it will be treated as `np.float64 == np.dtype(float).type`.\n",
      "  from ._conv import register_converters as _register_converters\n"
     ]
    }
   ],
   "source": [
    "import glob\n",
    "import matplotlib.pyplot as plt\n",
    "import numpy as np\n",
    "import pandas\n",
    "import xarray\n",
    "import cftime\n",
    "import tensorflow as tf"
   ]
  },
  {
   "cell_type": "code",
   "execution_count": 2,
   "metadata": {},
   "outputs": [
    {
     "name": "stdout",
     "output_type": "stream",
     "text": [
      "<xarray.Dataset>\n",
      "Dimensions:         (bounds: 2, month: 12, time: 7800)\n",
      "Coordinates:\n",
      "  * time            (time) float64 15.5 45.0 74.5 ... 2.372e+05 2.372e+05\n",
      "Dimensions without coordinates: bounds, month\n",
      "Data variables:\n",
      "    nino34          (time) float64 ...\n",
      "    time_bnds       (time, bounds) float64 ...\n",
      "    areacello       float32 ...\n",
      "    days_per_month  (month) int32 ...\n"
     ]
    }
   ],
   "source": [
    "datapath = 'nino34_monthly.nc'\n",
    "nino34 = xarray.open_dataset(datapath, decode_times = False)\n",
    "print(nino34)\n",
    "nino34 = np.array(nino34['nino34'].values)"
   ]
  },
  {
   "cell_type": "code",
   "execution_count": 3,
   "metadata": {},
   "outputs": [],
   "source": [
    "def ONI(nino34, m = 3):\n",
    "    oni = np.array(nino34)\n",
    "    length = nino34.shape[0]\n",
    "    for i in range(length):\n",
    "        oni[i] = np.mean(nino34[max(0, (i - m + 1)) : min((i + 1), length)])\n",
    "    return oni"
   ]
  },
  {
   "cell_type": "code",
   "execution_count": 4,
   "metadata": {},
   "outputs": [],
   "source": [
    "oni = ONI(nino34)"
   ]
  },
  {
   "cell_type": "code",
   "execution_count": 5,
   "metadata": {},
   "outputs": [],
   "source": [
    "def climatology(nino34):\n",
    "    clm = np.zeros(12)\n",
    "    length = nino34.shape[0]\n",
    "    for month in range(12):\n",
    "        section = [12 * i + month for i in range(length // 12)]\n",
    "        clm[month] = np.mean(nino34[section])\n",
    "    return clm"
   ]
  },
  {
   "cell_type": "code",
   "execution_count": 6,
   "metadata": {},
   "outputs": [],
   "source": [
    "clm = climatology(nino34)"
   ]
  },
  {
   "cell_type": "code",
   "execution_count": 7,
   "metadata": {},
   "outputs": [],
   "source": [
    "def SST_anomaly(nino34, clm):\n",
    "    anm = np.array(nino34)\n",
    "    length = nino34.shape[0]\n",
    "    for i in range(length):\n",
    "        anm[i] = nino34[i] - clm[i % 12]\n",
    "    return anm"
   ]
  },
  {
   "cell_type": "code",
   "execution_count": 8,
   "metadata": {},
   "outputs": [],
   "source": [
    "anm = SST_anomaly(nino34, clm)\n",
    "oanm = ONI(anm)"
   ]
  },
  {
   "cell_type": "code",
   "execution_count": 18,
   "metadata": {},
   "outputs": [],
   "source": [
    "T = 6                       # prediction timeline\n",
    "H = 48                      # history used for prediction\n",
    "n_classes = 3               # number of classes (El Nino, El Nina, No Event)\n",
    "threshold = 0.5         \n",
    "signal = np.array(nino34[12 * 50:])   # data used for training/testing\n",
    "length = signal.shape[0]    # number of data points\n",
    "size = length - H - T       # effective dataset size"
   ]
  },
  {
   "cell_type": "code",
   "execution_count": 19,
   "metadata": {},
   "outputs": [],
   "source": [
    "# create the 'history matrix'\n",
    "data = np.ndarray((size, H))\n",
    "for i in range(size):\n",
    "    data[i] = signal[i:(i + H)]\n",
    "\n",
    "# label El Nino as 2, El Nina as 0 and no event as 1\n",
    "labels = np.ndarray((size))\n",
    "for i in range(length - H - T):\n",
    "    if(oanm[i + H + T] >= threshold):\n",
    "        labels[i] = 2\n",
    "    elif(oanm[i + H + T] <= -threshold):\n",
    "        labels[i] = 0\n",
    "    else:\n",
    "        labels[i] = 1"
   ]
  },
  {
   "cell_type": "code",
   "execution_count": 20,
   "metadata": {},
   "outputs": [
    {
     "name": "stdout",
     "output_type": "stream",
     "text": [
      "Accuracy on Jan : 0.4655172444623092\n",
      "Accuracy on Feb : 0.5000000010276663\n",
      "Accuracy on Mar : 0.43103448686928586\n",
      "Accuracy on Apr : 0.48275862377265405\n",
      "Accuracy on May : 0.3965517261932636\n",
      "Accuracy on June : 0.25862069222433814\n",
      "Accuracy on July : 0.3448275903175617\n",
      "Accuracy on Aug : 0.3448275887760623\n",
      "Accuracy on Sep : 0.37931034996591767\n",
      "Accuracy on Oct : 0.41379310344827586\n",
      "Accuracy on Nov : 0.3448275903175617\n",
      "Accuracy on Dec : 0.4310344848139533\n"
     ]
    }
   ],
   "source": [
    "np.random.seed(0)\n",
    "\n",
    "size2 = size // 12\n",
    "acc_m = np.zeros(size2)\n",
    "loss_m = np.zeros(size2)\n",
    "\n",
    "month = [\"Jan\", \"Feb\", \"Mar\", \"Apr\", \"May\", \"June\", \"July\", \"Aug\", \"Sep\", \"Oct\", \"Nov\", \"Dec\"]\n",
    "\n",
    "for m in range(12):\n",
    "    \n",
    "    split = size2 // 10      \n",
    "    shuffle = 12 * np.random.permutation(size2) + m * np.ones(size2, dtype = int)\n",
    "    \n",
    "    train_ind = np.array(shuffle[0: 8 * split])\n",
    "    val_ind = np.array(shuffle[(8 * split + 1): 9 * split])\n",
    "    test_ind = np.array(shuffle[(9 * split + 1): size])\n",
    "\n",
    "    train = np.array(data[train_ind])\n",
    "    train_labels = np.array(labels[train_ind])\n",
    "\n",
    "    val = np.array(data[val_ind])\n",
    "    val_labels = np.array(labels[val_ind])\n",
    "\n",
    "    test = np.array(data[test_ind])\n",
    "    test_labels = np.array(labels[test_ind])\n",
    "    \n",
    "    mean = np.mean(train, axis = 0)\n",
    "    std = np.std(train, axis = 0)\n",
    "\n",
    "    train_n = np.divide(\n",
    "        train - np.outer(np.ones(train.shape[0]), mean),\n",
    "        np.outer(np.ones(train.shape[0]), std))\n",
    "\n",
    "    val_n = np.divide(\n",
    "        val - np.outer(np.ones(val.shape[0]), mean),\n",
    "        np.outer(np.ones(val.shape[0]), std))\n",
    "\n",
    "    test_n = np.divide(\n",
    "        test - np.outer(np.ones(test.shape[0]), mean),\n",
    "        np.outer(np.ones(test.shape[0]), std))\n",
    "\n",
    "    with tf.Session() as sess:\n",
    "        sess.run(tf.global_variables_initializer())\n",
    "        encoded_train_labels = tf.one_hot(train_labels, depth = n_classes).eval()\n",
    "        encoded_val_labels = tf.one_hot(val_labels, depth = n_classes).eval()\n",
    "        encoded_test_labels = tf.one_hot(test_labels, depth = n_classes).eval()\n",
    "        \n",
    "    (d, N1, N2, N3) = (0.3, 768, 768, 384)\n",
    "    epochs = 60\n",
    "        \n",
    "    model = tf.keras.models.Sequential([\n",
    "              tf.keras.layers.Dense(N1, activation=tf.nn.relu),\n",
    "              tf.keras.layers.Dropout(d),\n",
    "              tf.keras.layers.Dense(N2, activation=tf.nn.relu),\n",
    "              tf.keras.layers.Dropout(d),\n",
    "              tf.keras.layers.Dense(N3, activation=tf.nn.relu),\n",
    "              tf.keras.layers.Dropout(d),\n",
    "              tf.keras.layers.Dense(n_classes, activation=tf.nn.softmax)\n",
    "            ])\n",
    "\n",
    "    model.reset_states()\n",
    "\n",
    "    model.compile(optimizer='adam',\n",
    "            loss='categorical_crossentropy',\n",
    "            metrics=['accuracy'])\n",
    "\n",
    "    model.fit(train_n, encoded_train_labels, epochs = epochs, verbose = 0)\n",
    "    (loss_m[m], acc_m[m]) = model.evaluate(val_n, encoded_val_labels, verbose = 0)\n",
    "        \n",
    "    print(\"Accuracy on\", month[m], \":\", acc_m[m])"
   ]
  }
 ],
 "metadata": {
  "kernelspec": {
   "display_name": "Python 3",
   "language": "python",
   "name": "python3"
  },
  "language_info": {
   "codemirror_mode": {
    "name": "ipython",
    "version": 3
   },
   "file_extension": ".py",
   "mimetype": "text/x-python",
   "name": "python",
   "nbconvert_exporter": "python",
   "pygments_lexer": "ipython3",
   "version": "3.6.5"
  }
 },
 "nbformat": 4,
 "nbformat_minor": 2
}
